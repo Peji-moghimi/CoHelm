{
 "cells": [
  {
   "cell_type": "code",
   "execution_count": 106,
   "metadata": {
    "execution": {
     "iopub.execute_input": "2024-01-16T15:05:50.303775Z",
     "iopub.status.busy": "2024-01-16T15:05:50.303150Z",
     "iopub.status.idle": "2024-01-16T15:05:50.313044Z",
     "shell.execute_reply": "2024-01-16T15:05:50.311567Z",
     "shell.execute_reply.started": "2024-01-16T15:05:50.303722Z"
    }
   },
   "outputs": [],
   "source": [
    "import os\n",
    "import openai\n",
    "from openai import OpenAI\n",
    "from pathlib import Path\n",
    "from pdf2image import convert_from_path\n",
    "import base64\n",
    "from io import BytesIO"
   ]
  },
  {
   "cell_type": "code",
   "execution_count": 107,
   "metadata": {
    "execution": {
     "iopub.execute_input": "2024-01-16T15:05:54.068003Z",
     "iopub.status.busy": "2024-01-16T15:05:54.067360Z",
     "iopub.status.idle": "2024-01-16T15:05:54.079240Z",
     "shell.execute_reply": "2024-01-16T15:05:54.077830Z",
     "shell.execute_reply.started": "2024-01-16T15:05:54.067951Z"
    }
   },
   "outputs": [],
   "source": [
    "def pdf_to_base64(pdf_path):\n",
    "    # Convert PDF to a list of images\n",
    "    images = convert_from_path(pdf_path)\n",
    "\n",
    "    base64_images = []\n",
    "\n",
    "    for image in images:\n",
    "        # Convert image to base64\n",
    "        buffered = BytesIO()\n",
    "        image.save(buffered, format=\"PNG\")\n",
    "        img_str = base64.b64encode(buffered.getvalue())\n",
    "\n",
    "        # Add the base64-encoded image to the list\n",
    "        base64_images.append(img_str.decode())\n",
    "\n",
    "    return base64_images"
   ]
  },
  {
   "cell_type": "code",
   "execution_count": 108,
   "metadata": {
    "execution": {
     "iopub.execute_input": "2024-01-16T15:05:54.444037Z",
     "iopub.status.busy": "2024-01-16T15:05:54.443487Z",
     "iopub.status.idle": "2024-01-16T15:05:55.756441Z",
     "shell.execute_reply": "2024-01-16T15:05:55.754794Z",
     "shell.execute_reply.started": "2024-01-16T15:05:54.443988Z"
    }
   },
   "outputs": [],
   "source": [
    "def pdf_ingest_and_extract(pdf_path, prompt_path, openai_api_key):\n",
    "\n",
    "    images = pdf_to_base64(pdf_path)\n",
    "    with open(prompt_path, \"r\") as p:\n",
    "        prompt = p.read()\n",
    "    content = [{\"type\": \"text\", \"text\": prompt}]\n",
    "    \n",
    "    for i in images:\n",
    "        content.append({\"type\": \"image_url\", \"image_url\": {\"url\": f\"data:image/jpeg;base64,{i}\"}})\n",
    "    \n",
    "    client = OpenAI(api_key=openai_api_key)\n",
    "    response = client.chat.completions.create(\n",
    "        model=\"gpt-4-vision-preview\",\n",
    "         messages=[\n",
    "            {\n",
    "                \"role\": \"user\",\n",
    "                \"content\": content,\n",
    "            }\n",
    "        ],\n",
    "        max_tokens=4000,\n",
    "        temperature=0\n",
    "    )\n",
    "    \n",
    "    return response.choices[0].message.content"
   ]
  },
  {
   "cell_type": "code",
   "execution_count": 89,
   "metadata": {
    "execution": {
     "iopub.execute_input": "2024-01-15T20:47:52.587355Z",
     "iopub.status.busy": "2024-01-15T20:47:52.586686Z",
     "iopub.status.idle": "2024-01-15T20:48:31.733597Z",
     "shell.execute_reply": "2024-01-15T20:48:31.731310Z",
     "shell.execute_reply.started": "2024-01-15T20:47:52.587297Z"
    }
   },
   "outputs": [],
   "source": [
    "pdf_extract = pdf_ingest_and_extract(\"pdfs/medical-record-3.pdf\", \"pdf_extraction_prompt.txt\")"
   ]
  },
  {
   "cell_type": "code",
   "execution_count": 174,
   "metadata": {
    "execution": {
     "iopub.execute_input": "2024-01-16T20:30:52.043824Z",
     "iopub.status.busy": "2024-01-16T20:30:52.043157Z",
     "iopub.status.idle": "2024-01-16T20:30:52.056259Z",
     "shell.execute_reply": "2024-01-16T20:30:52.054587Z",
     "shell.execute_reply.started": "2024-01-16T20:30:52.043769Z"
    }
   },
   "outputs": [],
   "source": [
    "def text_to_json(text, prompt_path, openai_api_key):\n",
    "\n",
    "    with open(prompt_path, \"r\") as p:\n",
    "        prompt = p.read()\n",
    "        prompt = prompt + \"\\n\\n\" + f\"Input: {text}\\nOutput:\"\n",
    "    \n",
    "    client = OpenAI(api_key=openai_api_key)\n",
    "    response = openai.chat.completions.create(\n",
    "            model=\"gpt-4-1106-preview\",\n",
    "            response_format={\"type\": \"json_object\"},\n",
    "            messages=[{\"role\": \"user\", \"content\": prompt}],\n",
    "            temperature=0.0\n",
    "        )\n",
    "    \n",
    "    output = response.choices[0].message.content\n",
    "    output = output.split(\"<json>\\n\")[-1].split(\"\\n</json>\")[0]\n",
    "    \n",
    "    return json.loads(output)"
   ]
  },
  {
   "cell_type": "code",
   "execution_count": 96,
   "metadata": {
    "execution": {
     "iopub.execute_input": "2024-01-15T20:56:53.622954Z",
     "iopub.status.busy": "2024-01-15T20:56:53.622395Z",
     "iopub.status.idle": "2024-01-15T20:57:59.614160Z",
     "shell.execute_reply": "2024-01-15T20:57:59.612467Z",
     "shell.execute_reply.started": "2024-01-15T20:56:53.622905Z"
    }
   },
   "outputs": [],
   "source": [
    "pdf_json = text_to_json(pdf_extract, \"text_to_json_prompt.txt\")"
   ]
  },
  {
   "cell_type": "code",
   "execution_count": 97,
   "metadata": {
    "execution": {
     "iopub.execute_input": "2024-01-15T20:57:59.617459Z",
     "iopub.status.busy": "2024-01-15T20:57:59.616881Z",
     "iopub.status.idle": "2024-01-15T20:57:59.629390Z",
     "shell.execute_reply": "2024-01-15T20:57:59.628231Z",
     "shell.execute_reply.started": "2024-01-15T20:57:59.617391Z"
    }
   },
   "outputs": [
    {
     "data": {
      "text/plain": [
       "{'CPT': ['47562', '45378', '43235', '43239'],\n",
       " 'PatientMedicalRecord': {'Name': 'Michail Antonio',\n",
       "  'DateOfBirth': '01/01/1975',\n",
       "  'DateOfRecord': '12/06/2023',\n",
       "  'Gender': 'Male',\n",
       "  'Address': '101 Hospital Drive, Dallas, Texas 91126',\n",
       "  'ContactNumber': '(545) 555-1111',\n",
       "  'EmergencyContact': '(677) 234-8873',\n",
       "  'ChiefComplaint': 'Persistent upper abdominal pain and heartburn since May 2023.'},\n",
       " 'HistoryOfPresentIllness': {'Description': 'Mr. Doe, a 48-year-old male, reports a 6-month history of upper abdominal pain, heartburn, and occasional nausea beginning around May 2023. Symptoms worsen post-meal, especially after consuming spicy foods. He denies vomiting, weight loss, or changes in bowel habits. Over-the-counter antacids, started in June 2023, provide minimal relief. No history of gastrointestinal bleeding.'},\n",
       " 'PastMedicalHistory': {'Conditions': ['Hypertension diagnosed in 2015, controlled with medication.'],\n",
       "  'PreviousMedicalProcedures': [{'Procedure': 'Cholecystectomy on 08/15/2018',\n",
       "    'CPTCode': '47562 - Laparoscopic cholecystectomy'},\n",
       "   {'Procedure': 'Colonoscopy on 07/22/2020',\n",
       "    'CPTCode': '45378 - Colonoscopy, diagnostic',\n",
       "    'Notes': 'Abnormal findings identified, and further treatment pending as of 12/06/2023.'}],\n",
       "  'Surgeries': ['No prior surgeries.']},\n",
       " 'Medications': ['Lisinopril 10mg daily since 2015',\n",
       "  'Antacids as needed since June 2023'],\n",
       " 'Allergies': ['No known drug allergies'],\n",
       " 'SocialHistory': {'Smoking': 'Non-smoker',\n",
       "  'Alcohol': 'Occasional alcohol use',\n",
       "  'RecreationalDrugs': 'No recreational drug use'},\n",
       " 'FamilyHistory': {'Conditions': ['Father had gastric ulcer',\n",
       "   'No family history of gastrointestinal cancers']},\n",
       " 'PhysicalExamination': {'General': 'Alert and oriented, no acute distress',\n",
       "  'Abdomen': 'Soft, non-tender, no palpable masses or hepatosplenomegaly',\n",
       "  'OtherSystems': 'Other systems examination was unremarkable'},\n",
       " 'LaboratoryResults': {'CBC_CMP': 'within normal limits',\n",
       "  'H_PyloriStoolAntigenTest': 'Negative'},\n",
       " 'AssessmentAndPlan': {'DifferentialDiagnosis': ['gastroesophageal reflux disease (GERD)',\n",
       "   'peptic ulcer',\n",
       "   'other potential gastrointestinal conditions'],\n",
       "  'Procedures': ['Esophagogastroduodenoscopy (EGD) scheduled for 12/20/2023 to further evaluate the condition of the esophagus, stomach, and duodenum. Biopsies will be obtained as necessary.'],\n",
       "  'PendingResults': ['Pending results from the EGD and the planned treatment for the abnormal findings from the 07/22/2020 colonoscopy, additional information is required to finalize the diagnosis and formulate a comprehensive treatment plan.'],\n",
       "  'Medication': ['Continue current medication (antacids) and start proton pump inhibitor (PPI) once daily for symptom management as of 12/06/2023.'],\n",
       "  'DietaryModifications': ['Advised dietary modifications: avoid spicy foods, and adopt smaller, more frequent meals to ease gastrointestinal discomfort.'],\n",
       "  'Monitoring': ['Close monitoring of symptoms is recommended. The patient is advised to report any exacerbation of symptoms or new symptoms immediately.'],\n",
       "  'FollowUp': ['A follow-up appointment scheduled for 01/03/2024 to discuss the results and next steps in management, including addressing the pending treatment from the colonoscopy.']}}"
      ]
     },
     "execution_count": 97,
     "metadata": {},
     "output_type": "execute_result"
    }
   ],
   "source": [
    "pdf_json"
   ]
  },
  {
   "cell_type": "code",
   "execution_count": 121,
   "metadata": {
    "execution": {
     "iopub.execute_input": "2024-01-16T15:15:04.769718Z",
     "iopub.status.busy": "2024-01-16T15:15:04.769026Z",
     "iopub.status.idle": "2024-01-16T15:17:08.726615Z",
     "shell.execute_reply": "2024-01-16T15:17:08.723605Z",
     "shell.execute_reply.started": "2024-01-16T15:15:04.769661Z"
    }
   },
   "outputs": [],
   "source": [
    "from collections import defaultdict\n",
    "\n",
    "pdf_dir = Path('pdfs/')\n",
    "pdf_extracts = defaultdict(list)\n",
    "\n",
    "# Grab all PDF files\n",
    "pdf_files = list(pdf_dir.glob('*.pdf'))\n",
    "# Print the paths of the PDF files\n",
    "for pdf_path in pdf_files:\n",
    "    pdf_extracts[\"study\"].append(str(pdf_path).split(\"/\")[-1].split(\".\")[0])\n",
    "    pdf_extracts[\"raw_text\"].append(pdf_ingest_and_extract(pdf_path, \"pdf_extraction_prompt.txt\"))"
   ]
  },
  {
   "cell_type": "code",
   "execution_count": 199,
   "metadata": {
    "execution": {
     "iopub.execute_input": "2024-01-17T13:44:45.077080Z",
     "iopub.status.busy": "2024-01-17T13:44:45.076480Z",
     "iopub.status.idle": "2024-01-17T13:44:45.084482Z",
     "shell.execute_reply": "2024-01-17T13:44:45.082816Z",
     "shell.execute_reply.started": "2024-01-17T13:44:45.077029Z"
    }
   },
   "outputs": [],
   "source": [
    "pdf_extracts[\"json\"] = []"
   ]
  },
  {
   "cell_type": "code",
   "execution_count": 200,
   "metadata": {
    "execution": {
     "iopub.execute_input": "2024-01-17T13:44:45.766692Z",
     "iopub.status.busy": "2024-01-17T13:44:45.766136Z",
     "iopub.status.idle": "2024-01-17T13:47:44.497528Z",
     "shell.execute_reply": "2024-01-17T13:47:44.495749Z",
     "shell.execute_reply.started": "2024-01-17T13:44:45.766641Z"
    }
   },
   "outputs": [],
   "source": [
    "for raw_text in pdf_extracts[\"raw_text\"]:\n",
    "    pdf_extracts[\"json\"].append(text_to_json(raw_text, \"text_to_json_prompt.txt\"))"
   ]
  },
  {
   "cell_type": "code",
   "execution_count": 201,
   "metadata": {
    "execution": {
     "iopub.execute_input": "2024-01-17T13:47:46.171110Z",
     "iopub.status.busy": "2024-01-17T13:47:46.170519Z",
     "iopub.status.idle": "2024-01-17T13:47:46.185616Z",
     "shell.execute_reply": "2024-01-17T13:47:46.183946Z",
     "shell.execute_reply.started": "2024-01-17T13:47:46.171058Z"
    }
   },
   "outputs": [],
   "source": [
    "guidelines = {\n",
    "    \"guidelines\": {\n",
    "        \"Colorectal cancer screening\": {\n",
    "            \"criteria\": {\n",
    "                \"Patient has average-risk or higher\": {\n",
    "                    \"criteria\": {\n",
    "                        \"Age 45 years or older?\": {\n",
    "                            \"condition met\" : None, \n",
    "                            \"evidence\" : None\n",
    "                        },\n",
    "                        \"No colonoscopy in past 10 years?\": {\n",
    "                            \"condition met\" : None, \n",
    "                            \"evidence\" : None\n",
    "                        },\n",
    "                    }\n",
    "                },\n",
    "                \"High risk family history\": {\n",
    "                    \"criteria\": {\n",
    "                        \"Colorectal cancer diagnosed in one or more first-degree relatives of any age\": {\n",
    "                            \"criteria\": {\n",
    "                                \"Age 40 years or older\": {\n",
    "                                    \"condition met?\" : None, \n",
    "                                    \"evidence\" : None},\n",
    "                                \"Symptomatic (eg, abdominal pain, iron deficiency anemia, rectal bleeding)\": {\n",
    "                                    \"condition met?\" : None, \n",
    "                                    \"evidence\" : None}\n",
    "                            }\n",
    "                        },\n",
    "                        \"Family member with colonic adenomatous polyposis of unknown etiology\": {\n",
    "                            \"condition met?\" : None, \n",
    "                            \"evidence\" : None}\n",
    "                    }\n",
    "                },\n",
    "                \"Juvenile polyposis syndrome diagnosis\": {\n",
    "                    \"criteria\": {\n",
    "                        \"Age 12 years or older and symptomatic (Abdominal pain, Iron deficiency anemia, Rectal bleeding, Telangiectasia)\": {\n",
    "                            \"condition met?\": None, \n",
    "                            \"evidence\": None\n",
    "                        },\n",
    "                        \"Age younger than 12 years and symptomatic (Abdominal pain, Iron deficiency anemia, Rectal bleeding, Telangiectasia)\": {\n",
    "                            \"condition met?\": None, \n",
    "                            \"evidence\": None\n",
    "                        }\n",
    "                    }\n",
    "                }\n",
    "            }\n",
    "        }\n",
    "    }\n",
    "}"
   ]
  },
  {
   "cell_type": "code",
   "execution_count": 210,
   "metadata": {
    "execution": {
     "iopub.execute_input": "2024-01-17T14:13:59.722674Z",
     "iopub.status.busy": "2024-01-17T14:13:59.721851Z",
     "iopub.status.idle": "2024-01-17T14:13:59.730694Z",
     "shell.execute_reply": "2024-01-17T14:13:59.728862Z",
     "shell.execute_reply.started": "2024-01-17T14:13:59.722617Z"
    }
   },
   "outputs": [],
   "source": [
    "decision = {\"decision\" : {\"approve?\" : None, \"rationale\" : None, \"additional information required?\" : None}}"
   ]
  },
  {
   "cell_type": "code",
   "execution_count": 202,
   "metadata": {
    "execution": {
     "iopub.execute_input": "2024-01-17T13:47:46.344294Z",
     "iopub.status.busy": "2024-01-17T13:47:46.343757Z",
     "iopub.status.idle": "2024-01-17T13:47:46.750957Z",
     "shell.execute_reply": "2024-01-17T13:47:46.749339Z",
     "shell.execute_reply.started": "2024-01-17T13:47:46.344246Z"
    }
   },
   "outputs": [],
   "source": [
    "for j in pdf_extracts[\"json\"]:\n",
    "    pdf_extracts[\"updated_json\"].append(j.update(guidelines))"
   ]
  },
  {
   "cell_type": "code",
   "execution_count": 211,
   "metadata": {
    "execution": {
     "iopub.execute_input": "2024-01-17T14:14:19.288081Z",
     "iopub.status.busy": "2024-01-17T14:14:19.287254Z",
     "iopub.status.idle": "2024-01-17T14:14:19.295812Z",
     "shell.execute_reply": "2024-01-17T14:14:19.294327Z",
     "shell.execute_reply.started": "2024-01-17T14:14:19.288022Z"
    }
   },
   "outputs": [],
   "source": [
    "for j in pdf_extracts[\"json\"]:\n",
    "    pdf_extracts[\"updated_json\"].append(j.update(decision))"
   ]
  },
  {
   "cell_type": "code",
   "execution_count": 212,
   "metadata": {
    "collapsed": true,
    "execution": {
     "iopub.execute_input": "2024-01-17T14:14:19.970103Z",
     "iopub.status.busy": "2024-01-17T14:14:19.969384Z",
     "iopub.status.idle": "2024-01-17T14:14:19.993706Z",
     "shell.execute_reply": "2024-01-17T14:14:19.992515Z",
     "shell.execute_reply.started": "2024-01-17T14:14:19.970049Z"
    },
    "jupyter": {
     "outputs_hidden": true
    }
   },
   "outputs": [
    {
     "data": {
      "text/plain": [
       "defaultdict(list,\n",
       "            {'study': ['medical-record-1',\n",
       "              'medical-record-3',\n",
       "              'medical-record-2'],\n",
       "             'raw_text': ['MEDICAL RECORD\\n\\nPatient Name: James Freeman\\n\\nDOB: 06/16/1982\\n\\nMRN: 456789123\\n\\nSex: Male\\n\\nPRESENTING COMPLAINT\\n\\nSymptoms: Occasional rectal bleeding and abdominal discomfort for the past 6 months.\\n\\nDuration: 6 months.\\n\\nPATIENT INFORMATION\\n\\nName: James Freeman\\n\\nDOB: 06/16/1982\\n\\nGender: Male\\n\\nAddress: 4521 Maple Avenue, Dallas, Texas 75219\\n\\nContact Number: (214) 555-0123\\n\\nEmergency Contact: Not provided\\n\\nMEDICAL HISTORY\\n\\n- Family History: Father had colorectal cancer at age 68.\\n- Personal Medical History: Hypertension, managed with medication.\\n- Medications: Lisinopril 10mg daily.\\n- Allergies: No known drug allergies.\\n\\nALLERGIES\\n\\n- Allergies not reviewed (last reviewed 11/28/2022)\\n- NKDA\\n\\nVITALS\\n\\nHt: 6ft2\\n\\nWt: 165lbs\\n\\nBMI: 31.2\\n\\nPulse: 96bpm\\n\\nPHYSICAL EXAMINATION\\n\\nFindings: Mild tenderness in the lower abdomen, no palpable masses.\\n\\nDIAGNOSTIC TESTS AND RESULTS\\n\\nBlood Tests: Hemoglobin slightly low at 12.4 g/dL, rest of the complete blood count within normal limits. Normal liver function tests.\\n\\nImaging Studies: None conducted.\\n\\nHISTORY\\n\\nAppendectomy (44970): Patient underwent an appendectomy due to acute appendicitis in 2015. (Laparoscopy, surgical, appendectomy).\\n\\nKnee Arthroscopy (29881): Underwent left knee arthroscopy due to meniscal tear in 2018. (Arthroscopy, knee, surgical; with meniscectomy [medial OR lateral, including any meniscal shaving]).\\n\\nNOTES\\n\\nPx underwent treatment for abdominal discomfort 1 yr ago. Rectal bleeding. Tx failed to yield significant improvement. Rpt 6wk ago led to noticeable improvement in symptoms.\\n\\nCLINICAL IMPRESSION\\n\\nPossible internal hemorrhoids or polyps; colorectal cancer to be ruled out.\\n\\nPLAN\\n\\n1. Colonoscopy: Scheduled for 12/15/2023. The purpose is to investigate the cause of symptoms and to screen for colorectal cancer or polyps. This code represents a standard diagnostic colonoscopy.\\n\\n2. Pre-Procedure Instructions: Clear liquid diet 24 hours before the procedure. Bowel preparation with polyethylene glycol solution starting the evening before the procedure. No solid foods, milk, or orange/red colored liquids. Regular medications can be taken with small sips of water.\\n\\n3. Post-Procedure Care: Patient to be observed for any signs of complications such as severe pain, fever, or excessive bleeding. Advised to rest for the remainder of the day. Normal diet can be resumed the following day unless otherwise advised.\\n\\n4. Consent: The patient has been informed about the benefits, risks, and alternatives to the procedure and has given informed consent.\\n\\nFOLLOW-UP\\n\\nAppointment scheduled for 12/22/2023 to discuss the results of the colonoscopy and next steps in management.\\n\\nRequested procedure: 45378',\n",
       "              'PATIENT MEDICAL RECORD\\n\\nName: Michail Antonio\\nDate of Birth: 01/01/1975\\nDate of record: 12/06/2023\\nGender: Male\\nAddress: 101 Hospital Drive, Dallas, Texas 91126\\nContact Number: (545) 555-1111\\nEmergency Contact: (677) 234-8873\\n\\nChief Complaint: Persistent upper abdominal pain and heartburn since May 2023.\\n\\nHISTORY OF PRESENT ILLNESS\\n\\nMr. Doe, a 48-year-old male, reports a 6-month history of upper abdominal pain, heartburn, and occasional nausea beginning around May 2023. Symptoms worsen post-meal, especially after consuming spicy foods. He denies vomiting, weight loss, or changes in bowel habits. Over-the-counter antacids, started in June 2023, provide minimal relief. No history of gastrointestinal bleeding.\\n\\nPAST MEDICAL HISTORY\\n\\n- Hypertension diagnosed in 2015, controlled with medication.\\n\\n- Previous medical procedures:\\n  - Cholecystectomy on 08/15/2018 (CPT Code 47562 - Laparoscopic cholecystectomy).\\n  - Colonoscopy on 07/22/2020 (CPT Code 45378 - Colonoscopy, diagnostic). Abnormal findings identified, and further treatment pending as of 12/06/2023.\\n\\n- No prior surgeries.\\n\\nMEDICATIONS\\n\\n- Lisinopril 10mg daily since 2015\\n- Antacids as needed since June 2023\\n\\nALLERGIES\\n\\n- No known drug allergies\\n\\nSOCIAL HISTORY\\n\\n- Non-smoker\\n- Occasional alcohol use\\n- No recreational drug use\\n\\nFAMILY HISTORY\\n\\n- Father had gastric ulcer\\n- No family history of gastrointestinal cancers\\n\\nPHYSICAL EXAMINATION\\n\\n- General: Alert and oriented, no acute distress\\n- Abdomen: Soft, non-tender, no palpable masses or hepatosplenomegaly\\n- Other systems examination was unremarkable\\n\\nLABORATORY RESULTS\\n\\n- CBC, CMP within normal limits\\n- H. pylori stool antigen test: Negative\\n\\nASSESSMENT AND PLAN\\n\\n- Differential diagnosis includes gastroesophageal reflux disease (GERD), peptic ulcer, and other potential gastrointestinal conditions.\\n- Esophagogastroduodenoscopy (EGD) scheduled for 12/20/2023 to further evaluate the condition of the esophagus, stomach, and duodenum. Biopsies will be obtained as necessary.\\n- Pending results from the EGD and the planned treatment for the abnormal findings from the 07/22/2020 colonoscopy, additional information is required to finalize the diagnosis and formulate a comprehensive treatment plan.\\n- Continue current medication (antacids) and start proton pump inhibitor (PPI) once daily for symptom management as of 12/06/2023.\\n- Advised dietary modifications: avoid spicy foods, and adopt smaller, more frequent meals to ease gastrointestinal discomfort.\\n- Close monitoring of symptoms is recommended. The patient is advised to report any exacerbation of symptoms or new symptoms immediately.\\n- A follow-up appointment scheduled for 01/03/2024 to discuss the results and next steps in management, including addressing the pending treatment from the colonoscopy.\\n\\nRequested procedure: 43235, 43239',\n",
       "              'PATIENT MEDICAL RECORD\\n\\nName: James Maddison\\nDate of Birth: 03/15/1965\\nGender: Male\\nAddress: 1234 Sunset Blvd, Los Angeles, California 90026\\nContact Number: (214) 555-0123\\nEmergency Contact: (214) 555-0456\\n\\nMEDICAL HISTORY:\\n\\n- Family History: Father had colorectal cancer at a significantly advanced age.\\n- Personal Medical History: Hypertension, reportedly managed with medication.\\n- Medications: Lisinopril 10 mg daily, and possibly other medications not clearly listed.\\n- Allergies: No known drug allergies, based on available records.\\n\\nPRESENTING COMPLAINT:\\n\\n- Symptoms: Patient mentions occasional rectal bleeding and abdominal discomfort, with somewhat frequent occurrence and some severity.\\n- Duration: The symptoms have been present for a few months.\\n\\nPHYSICAL EXAMINATION:\\n\\n- Findings: Examination reveals some tenderness in the lower abdomen, but the exact nature is not well described.\\n\\nDIAGNOSTIC TESTS AND RESULTS:\\n\\n- Blood Tests: Hemoglobin levels are somewhat low at 12.4 g/dL, other results are within normal limits or not clearly specified.\\n- Imaging Studies: No recent imaging studies have been conducted or documented.\\n\\nPREVIOUS MEDICAL PROCEDURES:\\n\\n- Gallbladder Removal, Cholecystectomy (47562): Underwent a cholecystectomy several years ago. The postoperative course and its relation to current symptoms are unclear. (Laparoscopy, surgical; cholecystectomy).\\n- Lower Back Pain Management: Received physical therapy for lower back pain and abdominal symptoms. Several weeks ago.\\n\\nCLINICAL IMPRESSION:\\n\\nInternal hemorrhoids suggested by the patient.\\n\\nPLAN:\\n\\n1. Colonoscopy (CPT Code 45378): Scheduled for 12/15/2023. The purpose is somewhat broadly to investigate the symptoms and to screen for colorectal cancer or polyps.\\n2. Pre-Procedure Instructions: General instructions for preparation have been provided to the patient.\\n3. Post-Procedure Care: Patient to be observed for complications.\\n4. Consent: The patient has been informed about the procedure.\\n\\nRequested procedure: 45378'],\n",
       "             'json': [{'CPT': ['44970', '29881', '45378'],\n",
       "               'MEDICAL RECORD': {'Patient Name': 'James Freeman',\n",
       "                'DOB': '06/16/1982',\n",
       "                'MRN': '456789123',\n",
       "                'Sex': 'Male'},\n",
       "               'PRESENTING COMPLAINT': {'Symptoms': 'Occasional rectal bleeding and abdominal discomfort for the past 6 months.',\n",
       "                'Duration': '6 months.'},\n",
       "               'PATIENT INFORMATION': {'Name': 'James Freeman',\n",
       "                'DOB': '06/16/1982',\n",
       "                'Gender': 'Male',\n",
       "                'Address': '4521 Maple Avenue, Dallas, Texas 75219',\n",
       "                'Contact Number': '(214) 555-0123',\n",
       "                'Emergency Contact': 'Not provided'},\n",
       "               'MEDICAL HISTORY': {'Family History': ['Father had colorectal cancer at age 68.'],\n",
       "                'Personal Medical History': ['Hypertension, managed with medication.'],\n",
       "                'Medications': ['Lisinopril 10mg daily.'],\n",
       "                'Allergies': ['No known drug allergies.']},\n",
       "               'ALLERGIES': {'Allergies not reviewed': 'last reviewed 11/28/2022',\n",
       "                'NKDA': True},\n",
       "               'VITALS': {'Ht': '6ft2',\n",
       "                'Wt': '165lbs',\n",
       "                'BMI': 31.2,\n",
       "                'Pulse': '96bpm'},\n",
       "               'PHYSICAL EXAMINATION': {'Findings': 'Mild tenderness in the lower abdomen, no palpable masses.'},\n",
       "               'DIAGNOSTIC TESTS AND RESULTS': {'Blood Tests': 'Hemoglobin slightly low at 12.4 g/dL, rest of the complete blood count within normal limits. Normal liver function tests.',\n",
       "                'Imaging Studies': 'None conducted.'},\n",
       "               'HISTORY': {'Appendectomy': {'Code': '44970',\n",
       "                 'Description': 'Patient underwent an appendectomy due to acute appendicitis in 2015. (Laparoscopy, surgical, appendectomy).'},\n",
       "                'Knee Arthroscopy': {'Code': '29881',\n",
       "                 'Description': 'Underwent left knee arthroscopy due to meniscal tear in 2018. (Arthroscopy, knee, surgical; with meniscectomy [medial OR lateral, including any meniscal shaving]).'}},\n",
       "               'NOTES': 'Px underwent treatment for abdominal discomfort 1 yr ago. Rectal bleeding. Tx failed to yield significant improvement. Rpt 6wk ago led to noticeable improvement in symptoms.',\n",
       "               'CLINICAL IMPRESSION': 'Possible internal hemorrhoids or polyps; colorectal cancer to be ruled out.',\n",
       "               'PLAN': {'Colonoscopy': 'Scheduled for 12/15/2023. The purpose is to investigate the cause of symptoms and to screen for colorectal cancer or polyps. This code represents a standard diagnostic colonoscopy.',\n",
       "                'Pre-Procedure Instructions': 'Clear liquid diet 24 hours before the procedure. Bowel preparation with polyethylene glycol solution starting the evening before the procedure. No solid foods, milk, or orange/red colored liquids. Regular medications can be taken with small sips of water.',\n",
       "                'Post-Procedure Care': 'Patient to be observed for any signs of complications such as severe pain, fever, or excessive bleeding. Advised to rest for the remainder of the day. Normal diet can be resumed the following day unless otherwise advised.',\n",
       "                'Consent': 'The patient has been informed about the benefits, risks, and alternatives to the procedure and has given informed consent.'},\n",
       "               'FOLLOW-UP': 'Appointment scheduled for 12/22/2023 to discuss the results of the colonoscopy and next steps in management.',\n",
       "               'guidelines': {'Colorectal cancer screening': {'criteria': {'Patient has average-risk or higher': {'criteria': {'Age 45 years or older?': {'condition met': None,\n",
       "                     'evidence': None},\n",
       "                    'No colonoscopy in past 10 years?': {'condition met': None,\n",
       "                     'evidence': None}}},\n",
       "                  'High risk family history': {'criteria': {'Colorectal cancer diagnosed in one or more first-degree relatives of any age': {'criteria': {'Age 40 years or older': {'condition met?': None,\n",
       "                       'evidence': None},\n",
       "                      'Symptomatic (eg, abdominal pain, iron deficiency anemia, rectal bleeding)': {'condition met?': None,\n",
       "                       'evidence': None}}},\n",
       "                    'Family member with colonic adenomatous polyposis of unknown etiology': {'condition met?': None,\n",
       "                     'evidence': None}}},\n",
       "                  'Juvenile polyposis syndrome diagnosis': {'criteria': {'Age 12 years or older and symptomatic (Abdominal pain, Iron deficiency anemia, Rectal bleeding, Telangiectasia)': {'condition met?': None,\n",
       "                     'evidence': None},\n",
       "                    'Age younger than 12 years and symptomatic (Abdominal pain, Iron deficiency anemia, Rectal bleeding, Telangiectasia)': {'condition met?': None,\n",
       "                     'evidence': None}}}}}},\n",
       "               'decision': {'approve?': None,\n",
       "                'rationale': None,\n",
       "                'additional information required?': None}},\n",
       "              {'CPT': ['47562', '45378', '43235', '43239'],\n",
       "               'Patient Medical Record': {'Name': 'Michail Antonio',\n",
       "                'Date of Birth': '01/01/1975',\n",
       "                'Date of record': '12/06/2023',\n",
       "                'Gender': 'Male',\n",
       "                'Address': '101 Hospital Drive, Dallas, Texas 91126',\n",
       "                'Contact Number': '(545) 555-1111',\n",
       "                'Emergency Contact': '(677) 234-8873',\n",
       "                'Chief Complaint': 'Persistent upper abdominal pain and heartburn since May 2023.',\n",
       "                'History of Present Illness': {'Description': 'Mr. Doe, a 48-year-old male, reports a 6-month history of upper abdominal pain, heartburn, and occasional nausea beginning around May 2023. Symptoms worsen post-meal, especially after consuming spicy foods. He denies vomiting, weight loss, or changes in bowel habits. Over-the-counter antacids, started in June 2023, provide minimal relief. No history of gastrointestinal bleeding.'},\n",
       "                'Past Medical History': {'Conditions': ['Hypertension diagnosed in 2015, controlled with medication.'],\n",
       "                 'Previous medical procedures': [{'Procedure': 'Cholecystectomy on 08/15/2018',\n",
       "                   'CPT Code': '47562 - Laparoscopic cholecystectomy'},\n",
       "                  {'Procedure': 'Colonoscopy on 07/22/2020',\n",
       "                   'CPT Code': '45378 - Colonoscopy, diagnostic',\n",
       "                   'Notes': 'Abnormal findings identified, and further treatment pending as of 12/06/2023.'}],\n",
       "                 'Surgeries': ['No prior surgeries.']},\n",
       "                'Medications': ['Lisinopril 10mg daily since 2015',\n",
       "                 'Antacids as needed since June 2023'],\n",
       "                'Allergies': ['No known drug allergies'],\n",
       "                'Social History': {'Smoking': 'Non-smoker',\n",
       "                 'Alcohol': 'Occasional alcohol use',\n",
       "                 'Recreational Drugs': 'No recreational drug use'},\n",
       "                'Family History': {'Conditions': ['Father had gastric ulcer',\n",
       "                  'No family history of gastrointestinal cancers']},\n",
       "                'Physical Examination': {'General': 'Alert and oriented, no acute distress',\n",
       "                 'Abdomen': 'Soft, non-tender, no palpable masses or hepatosplenomegaly',\n",
       "                 'Other': 'Other systems examination was unremarkable'},\n",
       "                'Laboratory Results': {'Tests': ['CBC, CMP within normal limits',\n",
       "                  'H. pylori stool antigen test: Negative']},\n",
       "                'Assessment and Plan': {'Diagnosis': ['Differential diagnosis includes gastroesophageal reflux disease (GERD), peptic ulcer, and other potential gastrointestinal conditions.'],\n",
       "                 'Procedures': ['Esophagogastroduodenoscopy (EGD) scheduled for 12/20/2023 to further evaluate the condition of the esophagus, stomach, and duodenum. Biopsies will be obtained as necessary.'],\n",
       "                 'Treatment': ['Pending results from the EGD and the planned treatment for the abnormal findings from the 07/22/2020 colonoscopy, additional information is required to finalize the diagnosis and formulate a comprehensive treatment plan.',\n",
       "                  'Continue current medication (antacids) and start proton pump inhibitor (PPI) once daily for symptom management as of 12/06/2023.',\n",
       "                  'Advised dietary modifications: avoid spicy foods, and adopt smaller, more frequent meals to ease gastrointestinal discomfort.'],\n",
       "                 'Recommendations': ['Close monitoring of symptoms is recommended. The patient is advised to report any exacerbation of symptoms or new symptoms immediately.'],\n",
       "                 'Follow-up': ['A follow-up appointment scheduled for 01/03/2024 to discuss the results and next steps in management, including addressing the pending treatment from the colonoscopy.']}},\n",
       "               'guidelines': {'Colorectal cancer screening': {'criteria': {'Patient has average-risk or higher': {'criteria': {'Age 45 years or older?': {'condition met': None,\n",
       "                     'evidence': None},\n",
       "                    'No colonoscopy in past 10 years?': {'condition met': None,\n",
       "                     'evidence': None}}},\n",
       "                  'High risk family history': {'criteria': {'Colorectal cancer diagnosed in one or more first-degree relatives of any age': {'criteria': {'Age 40 years or older': {'condition met?': None,\n",
       "                       'evidence': None},\n",
       "                      'Symptomatic (eg, abdominal pain, iron deficiency anemia, rectal bleeding)': {'condition met?': None,\n",
       "                       'evidence': None}}},\n",
       "                    'Family member with colonic adenomatous polyposis of unknown etiology': {'condition met?': None,\n",
       "                     'evidence': None}}},\n",
       "                  'Juvenile polyposis syndrome diagnosis': {'criteria': {'Age 12 years or older and symptomatic (Abdominal pain, Iron deficiency anemia, Rectal bleeding, Telangiectasia)': {'condition met?': None,\n",
       "                     'evidence': None},\n",
       "                    'Age younger than 12 years and symptomatic (Abdominal pain, Iron deficiency anemia, Rectal bleeding, Telangiectasia)': {'condition met?': None,\n",
       "                     'evidence': None}}}}}},\n",
       "               'decision': {'approve?': None,\n",
       "                'rationale': None,\n",
       "                'additional information required?': None}},\n",
       "              {'Name': 'James Maddison',\n",
       "               'Date of Birth': '03/15/1965',\n",
       "               'Gender': 'Male',\n",
       "               'Address': '1234 Sunset Blvd, Los Angeles, California 90026',\n",
       "               'Contact Number': '(214) 555-0123',\n",
       "               'Emergency Contact': '(214) 555-0456',\n",
       "               'MEDICAL HISTORY': {'Family History': 'Father had colorectal cancer at a significantly advanced age.',\n",
       "                'Personal Medical History': 'Hypertension, reportedly managed with medication.',\n",
       "                'Medications': 'Lisinopril 10 mg daily, and possibly other medications not clearly listed.',\n",
       "                'Allergies': 'No known drug allergies, based on available records.'},\n",
       "               'PRESENTING COMPLAINT': {'Symptoms': 'Patient mentions occasional rectal bleeding and abdominal discomfort, with somewhat frequent occurrence and some severity.',\n",
       "                'Duration': 'The symptoms have been present for a few months.'},\n",
       "               'PHYSICAL EXAMINATION': {'Findings': 'Examination reveals some tenderness in the lower abdomen, but the exact nature is not well described.'},\n",
       "               'DIAGNOSTIC TESTS AND RESULTS': {'Blood Tests': 'Hemoglobin levels are somewhat low at 12.4 g/dL, other results are within normal limits or not clearly specified.',\n",
       "                'Imaging Studies': 'No recent imaging studies have been conducted or documented.'},\n",
       "               'PREVIOUS MEDICAL PROCEDURES': [{'Procedure': 'Gallbladder Removal, Cholecystectomy (47562)',\n",
       "                 'Description': 'Underwent a cholecystectomy several years ago. The postoperative course and its relation to current symptoms are unclear. (Laparoscopy, surgical; cholecystectomy).'},\n",
       "                {'Procedure': 'Lower Back Pain Management',\n",
       "                 'Description': 'Received physical therapy for lower back pain and abdominal symptoms. Several weeks ago.'}],\n",
       "               'CLINICAL IMPRESSION': 'Internal hemorrhoids suggested by the patient.',\n",
       "               'PLAN': [{'Step': 'Colonoscopy (CPT Code 45378)',\n",
       "                 'Date': 'Scheduled for 12/15/2023',\n",
       "                 'Purpose': 'The purpose is somewhat broadly to investigate the symptoms and to screen for colorectal cancer or polyps.'},\n",
       "                {'Step': 'Pre-Procedure Instructions',\n",
       "                 'Description': 'General instructions for preparation have been provided to the patient.'},\n",
       "                {'Step': 'Post-Procedure Care',\n",
       "                 'Description': 'Patient to be observed for complications.'},\n",
       "                {'Step': 'Consent',\n",
       "                 'Description': 'The patient has been informed about the procedure.'}],\n",
       "               'CPT': ['45378', '47562'],\n",
       "               'guidelines': {'Colorectal cancer screening': {'criteria': {'Patient has average-risk or higher': {'criteria': {'Age 45 years or older?': {'condition met': None,\n",
       "                     'evidence': None},\n",
       "                    'No colonoscopy in past 10 years?': {'condition met': None,\n",
       "                     'evidence': None}}},\n",
       "                  'High risk family history': {'criteria': {'Colorectal cancer diagnosed in one or more first-degree relatives of any age': {'criteria': {'Age 40 years or older': {'condition met?': None,\n",
       "                       'evidence': None},\n",
       "                      'Symptomatic (eg, abdominal pain, iron deficiency anemia, rectal bleeding)': {'condition met?': None,\n",
       "                       'evidence': None}}},\n",
       "                    'Family member with colonic adenomatous polyposis of unknown etiology': {'condition met?': None,\n",
       "                     'evidence': None}}},\n",
       "                  'Juvenile polyposis syndrome diagnosis': {'criteria': {'Age 12 years or older and symptomatic (Abdominal pain, Iron deficiency anemia, Rectal bleeding, Telangiectasia)': {'condition met?': None,\n",
       "                     'evidence': None},\n",
       "                    'Age younger than 12 years and symptomatic (Abdominal pain, Iron deficiency anemia, Rectal bleeding, Telangiectasia)': {'condition met?': None,\n",
       "                     'evidence': None}}}}}},\n",
       "               'decision': {'approve?': None,\n",
       "                'rationale': None,\n",
       "                'additional information required?': None}}],\n",
       "             'updated_json': [None, None, None, None, None, None]})"
      ]
     },
     "execution_count": 212,
     "metadata": {},
     "output_type": "execute_result"
    }
   ],
   "source": [
    "pdf_extracts"
   ]
  },
  {
   "cell_type": "code",
   "execution_count": 184,
   "metadata": {
    "execution": {
     "iopub.execute_input": "2024-01-16T20:53:56.377625Z",
     "iopub.status.busy": "2024-01-16T20:53:56.376947Z",
     "iopub.status.idle": "2024-01-16T20:53:56.416638Z",
     "shell.execute_reply": "2024-01-16T20:53:56.415601Z",
     "shell.execute_reply.started": "2024-01-16T20:53:56.377571Z"
    }
   },
   "outputs": [
    {
     "data": {
      "text/html": [
       "<div>\n",
       "<style scoped>\n",
       "    .dataframe tbody tr th:only-of-type {\n",
       "        vertical-align: middle;\n",
       "    }\n",
       "\n",
       "    .dataframe tbody tr th {\n",
       "        vertical-align: top;\n",
       "    }\n",
       "\n",
       "    .dataframe thead th {\n",
       "        text-align: right;\n",
       "    }\n",
       "</style>\n",
       "<table border=\"1\" class=\"dataframe\">\n",
       "  <thead>\n",
       "    <tr style=\"text-align: right;\">\n",
       "      <th></th>\n",
       "      <th>study</th>\n",
       "      <th>raw_text</th>\n",
       "      <th>json</th>\n",
       "    </tr>\n",
       "  </thead>\n",
       "  <tbody>\n",
       "    <tr>\n",
       "      <th>0</th>\n",
       "      <td>medical-record-1</td>\n",
       "      <td>MEDICAL RECORD\\n\\nPatient Name: James Freeman\\...</td>\n",
       "      <td>{'CPT': ['44970', '29881', '45378'], 'MEDICAL ...</td>\n",
       "    </tr>\n",
       "    <tr>\n",
       "      <th>1</th>\n",
       "      <td>medical-record-3</td>\n",
       "      <td>PATIENT MEDICAL RECORD\\n\\nName: Michail Antoni...</td>\n",
       "      <td>{'CPT': ['47562', '45378', '43235', '43239'], ...</td>\n",
       "    </tr>\n",
       "    <tr>\n",
       "      <th>2</th>\n",
       "      <td>medical-record-2</td>\n",
       "      <td>PATIENT MEDICAL RECORD\\n\\nName: James Maddison...</td>\n",
       "      <td>{'Name': 'James Maddison', 'Date of Birth': '0...</td>\n",
       "    </tr>\n",
       "  </tbody>\n",
       "</table>\n",
       "</div>"
      ],
      "text/plain": [
       "              study                                           raw_text  \\\n",
       "0  medical-record-1  MEDICAL RECORD\\n\\nPatient Name: James Freeman\\...   \n",
       "1  medical-record-3  PATIENT MEDICAL RECORD\\n\\nName: Michail Antoni...   \n",
       "2  medical-record-2  PATIENT MEDICAL RECORD\\n\\nName: James Maddison...   \n",
       "\n",
       "                                                json  \n",
       "0  {'CPT': ['44970', '29881', '45378'], 'MEDICAL ...  \n",
       "1  {'CPT': ['47562', '45378', '43235', '43239'], ...  \n",
       "2  {'Name': 'James Maddison', 'Date of Birth': '0...  "
      ]
     },
     "execution_count": 184,
     "metadata": {},
     "output_type": "execute_result"
    }
   ],
   "source": [
    "import pandas as pd\n",
    "\n",
    "df = pd.DataFrame(pdf_extracts)\n",
    "df"
   ]
  },
  {
   "cell_type": "code",
   "execution_count": 216,
   "metadata": {
    "execution": {
     "iopub.execute_input": "2024-01-17T14:20:29.028805Z",
     "iopub.status.busy": "2024-01-17T14:20:29.028141Z",
     "iopub.status.idle": "2024-01-17T14:20:29.041378Z",
     "shell.execute_reply": "2024-01-17T14:20:29.039719Z",
     "shell.execute_reply.started": "2024-01-17T14:20:29.028752Z"
    }
   },
   "outputs": [],
   "source": [
    "def create_json_schema(jsons, prompt_path):\n",
    "\n",
    "    with open(prompt_path, \"r\") as p:\n",
    "        prompt = p.read()\n",
    "        prompt = prompt + \"\\n\\n\" + f\"Input: {jsons}\\nOutput:\"\n",
    "    \n",
    "    client = OpenAI(api_key=openai_api_key)\n",
    "    response = openai.chat.completions.create(\n",
    "            model=\"gpt-4-1106-preview\",\n",
    "            response_format={\"type\": \"json_object\"},\n",
    "            messages=[{\"role\": \"user\", \"content\": prompt}],\n",
    "            temperature=0.0\n",
    "        )\n",
    "    \n",
    "    output = response.choices[0].message.content\n",
    "    output = output.split(\"<json>\\n\")[-1].split(\"\\n</json>\")[0]\n",
    "    \n",
    "    return json.loads(output)"
   ]
  },
  {
   "cell_type": "code",
   "execution_count": 217,
   "metadata": {
    "execution": {
     "iopub.execute_input": "2024-01-17T14:20:29.302278Z",
     "iopub.status.busy": "2024-01-17T14:20:29.301748Z",
     "iopub.status.idle": "2024-01-17T14:23:29.961630Z",
     "shell.execute_reply": "2024-01-17T14:23:29.959806Z",
     "shell.execute_reply.started": "2024-01-17T14:20:29.302229Z"
    }
   },
   "outputs": [],
   "source": [
    "concat_jsons = \"<json>\" + \"\\n\".join([str(j) for j in pdf_extracts[\"json\"]]) + \"</json>\"\n",
    "\n",
    "json_schema = create_json_schema(concat_jsons, \"json_schema_prompt.txt\")"
   ]
  },
  {
   "cell_type": "code",
   "execution_count": 218,
   "metadata": {
    "collapsed": true,
    "execution": {
     "iopub.execute_input": "2024-01-17T14:23:29.966728Z",
     "iopub.status.busy": "2024-01-17T14:23:29.965958Z",
     "iopub.status.idle": "2024-01-17T14:23:29.988711Z",
     "shell.execute_reply": "2024-01-17T14:23:29.987425Z",
     "shell.execute_reply.started": "2024-01-17T14:23:29.966675Z"
    },
    "jupyter": {
     "outputs_hidden": true
    }
   },
   "outputs": [
    {
     "data": {
      "text/plain": [
       "{'$schema': 'http://json-schema.org/draft-07/schema#',\n",
       " 'type': 'object',\n",
       " 'properties': {'CPT': {'type': 'array',\n",
       "   'items': {'type': 'string'},\n",
       "   'minItems': 1},\n",
       "  'MEDICAL RECORD': {'type': 'object',\n",
       "   'properties': {'Patient Name': {'type': 'string'},\n",
       "    'DOB': {'type': 'string'},\n",
       "    'MRN': {'type': 'string'},\n",
       "    'Sex': {'type': 'string'}},\n",
       "   'required': ['Patient Name', 'DOB', 'MRN', 'Sex']},\n",
       "  'PRESENTING COMPLAINT': {'type': 'object',\n",
       "   'properties': {'Symptoms': {'type': 'string'},\n",
       "    'Duration': {'type': 'string'}},\n",
       "   'required': ['Symptoms', 'Duration']},\n",
       "  'PATIENT INFORMATION': {'type': 'object',\n",
       "   'properties': {'Name': {'type': 'string'},\n",
       "    'DOB': {'type': 'string'},\n",
       "    'Gender': {'type': 'string'},\n",
       "    'Address': {'type': 'string'},\n",
       "    'Contact Number': {'type': 'string'},\n",
       "    'Emergency Contact': {'type': 'string'}},\n",
       "   'required': ['Name',\n",
       "    'DOB',\n",
       "    'Gender',\n",
       "    'Address',\n",
       "    'Contact Number',\n",
       "    'Emergency Contact']},\n",
       "  'MEDICAL HISTORY': {'type': 'object',\n",
       "   'properties': {'Family History': {'type': 'array',\n",
       "     'items': {'type': 'string'}},\n",
       "    'Personal Medical History': {'type': 'array', 'items': {'type': 'string'}},\n",
       "    'Medications': {'type': 'array', 'items': {'type': 'string'}},\n",
       "    'Allergies': {'type': 'array', 'items': {'type': 'string'}}},\n",
       "   'required': ['Family History',\n",
       "    'Personal Medical History',\n",
       "    'Medications',\n",
       "    'Allergies']},\n",
       "  'ALLERGIES': {'type': 'object',\n",
       "   'properties': {'Allergies not reviewed': {'type': 'string'},\n",
       "    'NKDA': {'type': 'boolean'}},\n",
       "   'required': ['Allergies not reviewed', 'NKDA']},\n",
       "  'VITALS': {'type': 'object',\n",
       "   'properties': {'Ht': {'type': 'string'},\n",
       "    'Wt': {'type': 'string'},\n",
       "    'BMI': {'type': 'number'},\n",
       "    'Pulse': {'type': 'string'}},\n",
       "   'required': ['Ht', 'Wt', 'BMI', 'Pulse']},\n",
       "  'PHYSICAL EXAMINATION': {'type': 'object',\n",
       "   'properties': {'Findings': {'type': 'string'}},\n",
       "   'required': ['Findings']},\n",
       "  'DIAGNOSTIC TESTS AND RESULTS': {'type': 'object',\n",
       "   'properties': {'Blood Tests': {'type': 'string'},\n",
       "    'Imaging Studies': {'type': 'string'}},\n",
       "   'required': ['Blood Tests', 'Imaging Studies']},\n",
       "  'HISTORY': {'type': 'object',\n",
       "   'additionalProperties': {'type': 'object',\n",
       "    'properties': {'Code': {'type': 'string'},\n",
       "     'Description': {'type': 'string'}},\n",
       "    'required': ['Code', 'Description']}},\n",
       "  'NOTES': {'type': 'string'},\n",
       "  'CLINICAL IMPRESSION': {'type': 'string'},\n",
       "  'PLAN': {'type': 'object',\n",
       "   'additionalProperties': {'type': 'object',\n",
       "    'properties': {'Colonoscopy': {'type': 'string'},\n",
       "     'Pre-Procedure Instructions': {'type': 'string'},\n",
       "     'Post-Procedure Care': {'type': 'string'},\n",
       "     'Consent': {'type': 'string'}},\n",
       "    'required': ['Colonoscopy',\n",
       "     'Pre-Procedure Instructions',\n",
       "     'Post-Procedure Care',\n",
       "     'Consent']}},\n",
       "  'FOLLOW-UP': {'type': 'string'},\n",
       "  'guidelines': {'type': 'object',\n",
       "   'properties': {'Colorectal cancer screening': {'type': 'object',\n",
       "     'properties': {'criteria': {'type': 'object',\n",
       "       'properties': {'Patient has average-risk or higher': {'type': 'object',\n",
       "         'properties': {'criteria': {'type': 'object',\n",
       "           'properties': {'Age 45 years or older?': {'type': 'object',\n",
       "             'properties': {'condition met': {'type': 'boolean'},\n",
       "              'evidence': {'type': 'string'}},\n",
       "             'required': ['condition met', 'evidence']},\n",
       "            'No colonoscopy in past 10 years?': {'type': 'object',\n",
       "             'properties': {'condition met': {'type': 'boolean'},\n",
       "              'evidence': {'type': 'string'}},\n",
       "             'required': ['condition met', 'evidence']}},\n",
       "           'required': ['Age 45 years or older?',\n",
       "            'No colonoscopy in past 10 years?']}},\n",
       "         'required': ['criteria']},\n",
       "        'High risk family history': {'type': 'object',\n",
       "         'properties': {'criteria': {'type': 'object',\n",
       "           'properties': {'Colorectal cancer diagnosed in one or more first-degree relatives of any age': {'type': 'object',\n",
       "             'properties': {'criteria': {'type': 'object',\n",
       "               'properties': {'Age 40 years or older': {'type': 'object',\n",
       "                 'properties': {'condition met?': {'type': 'boolean'},\n",
       "                  'evidence': {'type': 'string'}},\n",
       "                 'required': ['condition met?', 'evidence']},\n",
       "                'Symptomatic (eg, abdominal pain, iron deficiency anemia, rectal bleeding)': {'type': 'object',\n",
       "                 'properties': {'condition met?': {'type': 'boolean'},\n",
       "                  'evidence': {'type': 'string'}},\n",
       "                 'required': ['condition met?', 'evidence']}},\n",
       "               'required': ['Age 40 years or older',\n",
       "                'Symptomatic (eg, abdominal pain, iron deficiency anemia, rectal bleeding)']}},\n",
       "             'required': ['criteria']},\n",
       "            'Family member with colonic adenomatous polyposis of unknown etiology': {'type': 'object',\n",
       "             'properties': {'condition met?': {'type': 'boolean'},\n",
       "              'evidence': {'type': 'string'}},\n",
       "             'required': ['condition met?', 'evidence']}},\n",
       "           'required': ['Colorectal cancer diagnosed in one or more first-degree relatives of any age',\n",
       "            'Family member with colonic adenomatous polyposis of unknown etiology']}},\n",
       "         'required': ['criteria']},\n",
       "        'Juvenile polyposis syndrome diagnosis': {'type': 'object',\n",
       "         'properties': {'criteria': {'type': 'object',\n",
       "           'properties': {'Age 12 years or older and symptomatic (Abdominal pain, Iron deficiency anemia, Rectal bleeding, Telangiectasia)': {'type': 'object',\n",
       "             'properties': {'condition met?': {'type': 'boolean'},\n",
       "              'evidence': {'type': 'string'}},\n",
       "             'required': ['condition met?', 'evidence']},\n",
       "            'Age younger than 12 years and symptomatic (Abdominal pain, Iron deficiency anemia, Rectal bleeding, Telangiectasia)': {'type': 'object',\n",
       "             'properties': {'condition met?': {'type': 'boolean'},\n",
       "              'evidence': {'type': 'string'}},\n",
       "             'required': ['condition met?', 'evidence']}},\n",
       "           'required': ['Age 12 years or older and symptomatic (Abdominal pain, Iron deficiency anemia, Rectal bleeding, Telangiectasia)',\n",
       "            'Age younger than 12 years and symptomatic (Abdominal pain, Iron deficiency anemia, Rectal bleeding, Telangiectasia)']}},\n",
       "         'required': ['criteria']}},\n",
       "       'required': ['Patient has average-risk or higher',\n",
       "        'High risk family history',\n",
       "        'Juvenile polyposis syndrome diagnosis']}},\n",
       "     'required': ['criteria']}},\n",
       "   'required': ['Colorectal cancer screening']},\n",
       "  'decision': {'type': 'object',\n",
       "   'properties': {'approve?': {'type': 'boolean'},\n",
       "    'rationale': {'type': 'string'},\n",
       "    'additional information required?': {'type': 'string'}},\n",
       "   'required': ['approve?', 'rationale', 'additional information required?']}},\n",
       " 'required': ['CPT',\n",
       "  'MEDICAL RECORD',\n",
       "  'PRESENTING COMPLAINT',\n",
       "  'PATIENT INFORMATION',\n",
       "  'MEDICAL HISTORY',\n",
       "  'ALLERGIES',\n",
       "  'VITALS',\n",
       "  'PHYSICAL EXAMINATION',\n",
       "  'DIAGNOSTIC TESTS AND RESULTS',\n",
       "  'HISTORY',\n",
       "  'NOTES',\n",
       "  'CLINICAL IMPRESSION',\n",
       "  'PLAN',\n",
       "  'FOLLOW-UP',\n",
       "  'guidelines',\n",
       "  'decision']}"
      ]
     },
     "execution_count": 218,
     "metadata": {},
     "output_type": "execute_result"
    }
   ],
   "source": [
    "json_schema"
   ]
  },
  {
   "cell_type": "code",
   "execution_count": 221,
   "metadata": {
    "execution": {
     "iopub.execute_input": "2024-01-17T14:52:31.152139Z",
     "iopub.status.busy": "2024-01-17T14:52:31.151504Z",
     "iopub.status.idle": "2024-01-17T14:52:31.162140Z",
     "shell.execute_reply": "2024-01-17T14:52:31.160511Z",
     "shell.execute_reply.started": "2024-01-17T14:52:31.152086Z"
    }
   },
   "outputs": [],
   "source": [
    "with open(\"json_schema.json\", \"w\") as j:\n",
    "    json.dump(json_schema, j)"
   ]
  },
  {
   "cell_type": "code",
   "execution_count": 353,
   "metadata": {
    "execution": {
     "iopub.execute_input": "2024-01-18T17:33:24.715719Z",
     "iopub.status.busy": "2024-01-18T17:33:24.715052Z",
     "iopub.status.idle": "2024-01-18T17:33:24.728198Z",
     "shell.execute_reply": "2024-01-18T17:33:24.726580Z",
     "shell.execute_reply.started": "2024-01-18T17:33:24.715664Z"
    }
   },
   "outputs": [],
   "source": [
    "def text_to_unified_json(text, json_schema, prompt_path, model=\"gpt-4-1106-preview\"):\n",
    "\n",
    "    with open(prompt_path, \"r\") as p:\n",
    "        prompt = p.read()\n",
    "        prompt = prompt + \"\\n\\n\" + f\"medical document input: {text}\\noutput:\"\n",
    "    \n",
    "    client = OpenAI(api_key=openai_api_key)\n",
    "    response = openai.chat.completions.create(\n",
    "            model=model,\n",
    "            response_format={\"type\": \"json_object\"},\n",
    "            messages=[{\"role\": \"user\", \"content\": prompt}],\n",
    "            temperature=0.0\n",
    "        )\n",
    "    \n",
    "    output = response.choices[0].message.content\n",
    "    output = output.split(\"<json>\\n\")[-1].split(\"\\n</json>\")[0]\n",
    "    \n",
    "    return json.loads(output)"
   ]
  },
  {
   "cell_type": "code",
   "execution_count": 320,
   "metadata": {
    "execution": {
     "iopub.execute_input": "2024-01-18T16:01:10.259646Z",
     "iopub.status.busy": "2024-01-18T16:01:10.259033Z",
     "iopub.status.idle": "2024-01-18T16:06:07.104508Z",
     "shell.execute_reply": "2024-01-18T16:06:07.102784Z",
     "shell.execute_reply.started": "2024-01-18T16:01:10.259596Z"
    }
   },
   "outputs": [],
   "source": [
    "for raw_text in pdf_extracts[\"raw_text\"]:\n",
    "    pdf_extracts[\"unified_json\"].append(text_to_unified_json(raw_text, json_schema, \"text_to_json_schema_prompt.txt\"))"
   ]
  },
  {
   "cell_type": "code",
   "execution_count": 321,
   "metadata": {
    "collapsed": true,
    "execution": {
     "iopub.execute_input": "2024-01-18T16:06:07.107648Z",
     "iopub.status.busy": "2024-01-18T16:06:07.107083Z",
     "iopub.status.idle": "2024-01-18T16:06:07.129521Z",
     "shell.execute_reply": "2024-01-18T16:06:07.128758Z",
     "shell.execute_reply.started": "2024-01-18T16:06:07.107597Z"
    },
    "jupyter": {
     "outputs_hidden": true
    }
   },
   "outputs": [
    {
     "data": {
      "text/plain": [
       "[{'CPT': ['44970', '29881', '45378'],\n",
       "  'MEDICAL RECORD': {'Patient Name': 'James Freeman',\n",
       "   'DOB': '06/16/1982',\n",
       "   'MRN': '456789123',\n",
       "   'Sex': 'Male',\n",
       "   'other': 'not provided'},\n",
       "  'PRESENTING COMPLAINT': {'Symptoms': 'Occasional rectal bleeding and abdominal discomfort',\n",
       "   'Duration': '6 months',\n",
       "   'other': 'not provided'},\n",
       "  'PATIENT INFORMATION': {'Name': 'James Freeman',\n",
       "   'DOB': '06/16/1982',\n",
       "   'Gender': 'Male',\n",
       "   'Address': '4521 Maple Avenue, Dallas, Texas 75219',\n",
       "   'Contact Number': '(214) 555-0123',\n",
       "   'Emergency Contact': 'not provided',\n",
       "   'other': 'not provided'},\n",
       "  'MEDICAL HISTORY': {'Family History': ['Father had colorectal cancer at age 68'],\n",
       "   'Personal Medical History': ['Hypertension, managed with medication'],\n",
       "   'Medications': ['Lisinopril 10mg daily'],\n",
       "   'Allergies': ['No known drug allergies'],\n",
       "   'other': 'not provided'},\n",
       "  'ALLERGIES': {'Allergies not reviewed': 'last reviewed 11/28/2022',\n",
       "   'NKDA': True,\n",
       "   'other': 'not provided'},\n",
       "  'VITALS': {'Ht': '6ft2',\n",
       "   'Wt': '165lbs',\n",
       "   'BMI': 31.2,\n",
       "   'Pulse': '96bpm',\n",
       "   'other': 'not provided'},\n",
       "  'PHYSICAL EXAMINATION': {'Findings': 'Mild tenderness in the lower abdomen, no palpable masses',\n",
       "   'other': 'not provided'},\n",
       "  'DIAGNOSTIC TESTS AND RESULTS': {'Blood Tests': 'Hemoglobin slightly low at 12.4 g/dL, rest of the complete blood count within normal limits. Normal liver function tests.',\n",
       "   'Imaging Studies': 'None conducted',\n",
       "   'other': 'not provided'},\n",
       "  'HISTORY': {'Code': '44970, 29881',\n",
       "   'Description': 'Patient underwent an appendectomy due to acute appendicitis in 2015. Underwent left knee arthroscopy due to meniscal tear in 2018.',\n",
       "   'other': 'not provided'},\n",
       "  'NOTES': 'Px underwent treatment for abdominal discomfort 1 yr ago. Rectal bleeding. Tx failed to yield significant improvement. Rpt 6wk ago led to noticeable improvement in symptoms.',\n",
       "  'CLINICAL IMPRESSION': 'Possible internal hemorrhoids or polyps; colorectal cancer to be ruled out.',\n",
       "  'PLAN': {'Colonoscopy': 'Scheduled for 12/15/2023. The purpose is to investigate the cause of symptoms and to screen for colorectal cancer or polyps.',\n",
       "   'Pre-Procedure Instructions': 'Clear liquid diet 24 hours before the procedure. Bowel preparation with polyethylene glycol solution starting the evening before the procedure. No solid foods, milk, or orange/red colored liquids. Regular medications can be taken with small sips of water.',\n",
       "   'Post-Procedure Care': 'Patient to be observed for any signs of complications such as severe pain, fever, or excessive bleeding. Advised to rest for the remainder of the day. Normal diet can be resumed the following day unless otherwise advised.',\n",
       "   'Consent': 'The patient has been informed about the benefits, risks, and alternatives to the procedure and has given informed consent.',\n",
       "   'other': 'not provided'},\n",
       "  'FOLLOW-UP': 'Appointment scheduled for 12/22/2023 to discuss the results of the colonoscopy and next steps in management.',\n",
       "  'guidelines': {'Colorectal cancer screening': {'criteria': {'Patient has average-risk or higher': {'criteria': {'Age 45 years or older?': {'condition met': True,\n",
       "        'evidence': 'DOB: 06/16/1982'},\n",
       "       'No colonoscopy in past 10 years?': {'condition met': True,\n",
       "        'evidence': 'Colonoscopy scheduled for 12/15/2023, no mention of previous colonoscopy.'},\n",
       "       'other': 'not provided'}},\n",
       "     'High risk family history': {'criteria': {'Colorectal cancer diagnosed in one or more first-degree relatives of any age': {'criteria': {'Age 40 years or older': {'condition met?': True,\n",
       "          'evidence': 'Father had colorectal cancer at age 68, patient is 41 years old.'},\n",
       "         'Symptomatic (eg, abdominal pain, iron deficiency anemia, rectal bleeding)': {'condition met?': True,\n",
       "          'evidence': 'Symptoms: Occasional rectal bleeding and abdominal discomfort for the past 6 months.'},\n",
       "         'other': 'not provided'}},\n",
       "       'Family member with colonic adenomatous polyposis of unknown etiology': {'condition met?': False,\n",
       "        'evidence': 'No mention of colonic adenomatous polyposis in family history.'},\n",
       "       'other': 'not provided'}},\n",
       "     'Juvenile polyposis syndrome diagnosis': {'criteria': {'Age 12 years or older and symptomatic (Abdominal pain, Iron deficiency anemia, Rectal bleeding, Telangiectasia)': {'condition met?': False,\n",
       "        'evidence': 'No mention of Juvenile polyposis syndrome diagnosis.'},\n",
       "       'Age younger than 12 years and symptomatic (Abdominal pain, Iron deficiency anemia, Rectal bleeding, Telangiectasia)': {'condition met?': False,\n",
       "        'evidence': 'No mention of Juvenile polyposis syndrome diagnosis.'},\n",
       "       'other': 'not provided'}},\n",
       "     'other': 'not provided'}},\n",
       "   'other': 'not provided'},\n",
       "  'decision': {'approve?': True,\n",
       "   'rationale': 'Patient meets criteria for average-risk colorectal cancer screening based on age and lack of recent colonoscopy, and also meets criteria for high-risk screening due to family history and current symptoms.',\n",
       "   'additional information required?': 'None',\n",
       "   'other': 'not provided'},\n",
       "  'other': 'not provided'},\n",
       " {'CPT': ['47562', '45378', '43235', '43239'],\n",
       "  'MEDICAL RECORD': {'Patient Name': 'Michail Antonio',\n",
       "   'DOB': '01/01/1975',\n",
       "   'MRN': 'not provided',\n",
       "   'Sex': 'Male',\n",
       "   'other': 'Date of record: 12/06/2023'},\n",
       "  'PRESENTING COMPLAINT': {'Symptoms': 'Persistent upper abdominal pain and heartburn',\n",
       "   'Duration': 'since May 2023',\n",
       "   'other': 'occasional nausea'},\n",
       "  'PATIENT INFORMATION': {'Name': 'Michail Antonio',\n",
       "   'DOB': '01/01/1975',\n",
       "   'Gender': 'Male',\n",
       "   'Address': '101 Hospital Drive, Dallas, Texas 91126',\n",
       "   'Contact Number': '(545) 555-1111',\n",
       "   'Emergency Contact': '(677) 234-8873',\n",
       "   'other': 'not provided'},\n",
       "  'MEDICAL HISTORY': {'Family History': ['Father had gastric ulcer'],\n",
       "   'Personal Medical History': ['Hypertension diagnosed in 2015'],\n",
       "   'Medications': ['Lisinopril 10mg daily since 2015',\n",
       "    'Antacids as needed since June 2023'],\n",
       "   'Allergies': ['No known drug allergies'],\n",
       "   'other': 'Previous medical procedures: Cholecystectomy on 08/15/2018, Colonoscopy on 07/22/2020'},\n",
       "  'ALLERGIES': {'Allergies not reviewed': 'No known drug allergies',\n",
       "   'NKDA': True,\n",
       "   'other': 'not provided'},\n",
       "  'VITALS': {'Ht': 'not provided',\n",
       "   'Wt': 'not provided',\n",
       "   'BMI': 'not provided',\n",
       "   'Pulse': 'not provided',\n",
       "   'other': 'General: Alert and oriented, no acute distress'},\n",
       "  'PHYSICAL EXAMINATION': {'Findings': 'Abdomen: Soft, non-tender, no palpable masses or hepatosplenomegaly',\n",
       "   'other': 'Other systems examination was unremarkable'},\n",
       "  'DIAGNOSTIC TESTS AND RESULTS': {'Blood Tests': 'CBC, CMP within normal limits',\n",
       "   'Imaging Studies': 'not provided',\n",
       "   'other': 'H. pylori stool antigen test: Negative'},\n",
       "  'HISTORY': {'Code': 'not provided',\n",
       "   'Description': 'not provided',\n",
       "   'other': '6-month history of upper abdominal pain, heartburn, and occasional nausea beginning around May 2023. No history of gastrointestinal bleeding.'},\n",
       "  'NOTES': 'Pending results from the EGD and the planned treatment for the abnormal findings from the 07/22/2020 colonoscopy, additional information is required to finalize the diagnosis and formulate a comprehensive treatment plan.',\n",
       "  'CLINICAL IMPRESSION': 'Differential diagnosis includes gastroesophageal reflux disease (GERD), peptic ulcer, and other potential gastrointestinal conditions.',\n",
       "  'PLAN': {'Colonoscopy': 'Pending treatment from the 07/22/2020 colonoscopy',\n",
       "   'Pre-Procedure Instructions': 'Continue current medication (antacids) and start proton pump inhibitor (PPI) once daily for symptom management as of 12/06/2023.',\n",
       "   'Post-Procedure Care': 'Close monitoring of symptoms is recommended. The patient is advised to report any exacerbation of symptoms or new symptoms immediately.',\n",
       "   'Consent': 'not provided',\n",
       "   'other': 'Esophagogastroduodenoscopy (EGD) scheduled for 12/20/2023. Advised dietary modifications: avoid spicy foods, and adopt smaller, more frequent meals to ease gastrointestinal discomfort.'},\n",
       "  'FOLLOW-UP': 'A follow-up appointment scheduled for 01/03/2024 to discuss the results and next steps in management, including addressing the pending treatment from the colonoscopy.',\n",
       "  'guidelines': {'Colorectal cancer screening': {'criteria': {'Patient has average-risk or higher': {'criteria': {'Age 45 years or older?': {'condition met': True,\n",
       "        'evidence': \"Patient's age is 48 as per the date of birth provided.\"},\n",
       "       'No colonoscopy in past 10 years?': {'condition met': False,\n",
       "        'evidence': 'Patient had a colonoscopy on 07/22/2020.'},\n",
       "       'other': 'not provided'}},\n",
       "     'High risk family history': {'criteria': {'Colorectal cancer diagnosed in one or more first-degree relatives of any age': {'criteria': {'Age 40 years or older': {'condition met?': True,\n",
       "          'evidence': \"Patient's age is 48.\"},\n",
       "         'Symptomatic (eg, abdominal pain, iron deficiency anemia, rectal bleeding)': {'condition met?': False,\n",
       "          'evidence': 'No evidence of iron deficiency anemia or rectal bleeding; however, the patient reports abdominal pain.'},\n",
       "         'other': 'not provided'}},\n",
       "       'Family member with colonic adenomatous polyposis of unknown etiology': {'condition met?': False,\n",
       "        'evidence': 'No family history of gastrointestinal cancers or polyposis mentioned.'},\n",
       "       'other': 'not provided'}},\n",
       "     'Juvenile polyposis syndrome diagnosis': {'criteria': {'Age 12 years or older and symptomatic (Abdominal pain, Iron deficiency anemia, Rectal bleeding, Telangiectasia)': {'condition met?': False,\n",
       "        'evidence': 'No evidence of Juvenile polyposis syndrome diagnosis or related symptoms.'},\n",
       "       'Age younger than 12 years and symptomatic (Abdominal pain, Iron deficiency anemia, Rectal bleeding, Telangiectasia)': {'condition met?': False,\n",
       "        'evidence': 'Patient is older than 12 years and no evidence of Juvenile polyposis syndrome diagnosis.'},\n",
       "       'other': 'not provided'}},\n",
       "     'other': 'not provided'}},\n",
       "   'other': 'not provided'},\n",
       "  'decision': {'approve?': True,\n",
       "   'rationale': 'The patient meets the criteria for average-risk colorectal cancer screening based on age and has a history of abnormal findings in a previous colonoscopy, which justifies the need for the requested procedures (EGD and further evaluation of the colonoscopy findings).',\n",
       "   'additional information required?': 'None',\n",
       "   'other': 'not provided'},\n",
       "  'other': 'not provided'},\n",
       " {'CPT': ['45378', '47562'],\n",
       "  'MEDICAL RECORD': {'Patient Name': 'James Maddison',\n",
       "   'DOB': '03/15/1965',\n",
       "   'MRN': 'not provided',\n",
       "   'Sex': 'Male',\n",
       "   'other': 'not provided'},\n",
       "  'PRESENTING COMPLAINT': {'Symptoms': 'Patient mentions occasional rectal bleeding and abdominal discomfort, with somewhat frequent occurrence and some severity.',\n",
       "   'Duration': 'The symptoms have been present for a few months.',\n",
       "   'other': 'not provided'},\n",
       "  'PATIENT INFORMATION': {'Name': 'James Maddison',\n",
       "   'DOB': '03/15/1965',\n",
       "   'Gender': 'Male',\n",
       "   'Address': '1234 Sunset Blvd, Los Angeles, California 90026',\n",
       "   'Contact Number': '(214) 555-0123',\n",
       "   'Emergency Contact': '(214) 555-0456',\n",
       "   'other': 'not provided'},\n",
       "  'MEDICAL HISTORY': {'Family History': ['Father had colorectal cancer at a significantly advanced age.'],\n",
       "   'Personal Medical History': ['Hypertension, reportedly managed with medication.'],\n",
       "   'Medications': ['Lisinopril 10 mg daily',\n",
       "    'possibly other medications not clearly listed'],\n",
       "   'Allergies': ['No known drug allergies, based on available records'],\n",
       "   'other': 'not provided'},\n",
       "  'ALLERGIES': {'Allergies not reviewed': 'not provided',\n",
       "   'NKDA': True,\n",
       "   'other': 'not provided'},\n",
       "  'VITALS': {'Ht': 'not provided',\n",
       "   'Wt': 'not provided',\n",
       "   'BMI': 'not provided',\n",
       "   'Pulse': 'not provided',\n",
       "   'other': 'not provided'},\n",
       "  'PHYSICAL EXAMINATION': {'Findings': 'Examination reveals some tenderness in the lower abdomen, but the exact nature is not well described.',\n",
       "   'other': 'not provided'},\n",
       "  'DIAGNOSTIC TESTS AND RESULTS': {'Blood Tests': 'Hemoglobin levels are somewhat low at 12.4 g/dL, other results are within normal limits or not clearly specified.',\n",
       "   'Imaging Studies': 'No recent imaging studies have been conducted or documented.',\n",
       "   'other': 'not provided'},\n",
       "  'HISTORY': {'Code': 'not provided',\n",
       "   'Description': 'not provided',\n",
       "   'other': 'Gallbladder Removal, Cholecystectomy (47562): Underwent a cholecystectomy several years ago. The postoperative course and its relation to current symptoms are unclear. Lower Back Pain Management: Received physical therapy for lower back pain and abdominal symptoms. Several weeks ago.'},\n",
       "  'NOTES': 'not provided',\n",
       "  'CLINICAL IMPRESSION': 'Internal hemorrhoids suggested by the patient.',\n",
       "  'PLAN': {'Colonoscopy': 'Scheduled for 12/15/2023. The purpose is somewhat broadly to investigate the symptoms and to screen for colorectal cancer or polyps.',\n",
       "   'Pre-Procedure Instructions': 'General instructions for preparation have been provided to the patient.',\n",
       "   'Post-Procedure Care': 'Patient to be observed for complications.',\n",
       "   'Consent': 'The patient has been informed about the procedure.',\n",
       "   'other': 'not provided'},\n",
       "  'FOLLOW-UP': 'not provided',\n",
       "  'guidelines': {'Colorectal cancer screening': {'criteria': {'Patient has average-risk or higher': {'criteria': {'Age 45 years or older?': {'condition met': True,\n",
       "        'evidence': \"Patient's DOB: 03/15/1965, which makes him over 45 years old.\"},\n",
       "       'No colonoscopy in past 10 years?': {'condition met': True,\n",
       "        'evidence': 'No recent colonoscopy documented, and a colonoscopy is scheduled for 12/15/2023.'},\n",
       "       'other': 'not provided'}},\n",
       "     'High risk family history': {'criteria': {'Colorectal cancer diagnosed in one or more first-degree relatives of any age': {'criteria': {'Age 40 years or older': {'condition met?': True,\n",
       "          'evidence': \"Patient's DOB: 03/15/1965, which makes him over 40 years old.\"},\n",
       "         'Symptomatic (eg, abdominal pain, iron deficiency anemia, rectal bleeding)': {'condition met?': True,\n",
       "          'evidence': 'Patient reports occasional rectal bleeding and abdominal discomfort.'},\n",
       "         'other': 'not provided'}},\n",
       "       'Family member with colonic adenomatous polyposis of unknown etiology': {'condition met?': False,\n",
       "        'evidence': 'No evidence of family member with colonic adenomatous polyposis provided.'},\n",
       "       'other': 'not provided'}},\n",
       "     'Juvenile polyposis syndrome diagnosis': {'criteria': {'Age 12 years or older and symptomatic (Abdominal pain, Iron deficiency anemia, Rectal bleeding, Telangiectasia)': {'condition met?': False,\n",
       "        'evidence': 'No evidence of Juvenile polyposis syndrome diagnosis provided.'},\n",
       "       'Age younger than 12 years and symptomatic (Abdominal pain, Iron deficiency anemia, Rectal bleeding, Telangiectasia)': {'condition met?': False,\n",
       "        'evidence': 'No evidence of Juvenile polyposis syndrome diagnosis provided.'},\n",
       "       'other': 'not provided'}},\n",
       "     'other': 'not provided'}},\n",
       "   'other': 'not provided'},\n",
       "  'decision': {'approve?': True,\n",
       "   'rationale': 'Patient meets criteria for average-risk colorectal cancer screening based on age and lack of recent colonoscopy. Additionally, patient has symptoms and family history that increase risk.',\n",
       "   'additional information required?': 'None',\n",
       "   'other': 'not provided'},\n",
       "  'other': 'not provided'}]"
      ]
     },
     "execution_count": 321,
     "metadata": {},
     "output_type": "execute_result"
    }
   ],
   "source": [
    "pdf_extracts[\"unified_json\"]"
   ]
  },
  {
   "cell_type": "code",
   "execution_count": 355,
   "metadata": {
    "execution": {
     "iopub.execute_input": "2024-01-18T17:37:08.966644Z",
     "iopub.status.busy": "2024-01-18T17:37:08.965989Z",
     "iopub.status.idle": "2024-01-18T17:42:29.254572Z",
     "shell.execute_reply": "2024-01-18T17:42:29.252827Z",
     "shell.execute_reply.started": "2024-01-18T17:37:08.966592Z"
    }
   },
   "outputs": [
    {
     "name": "stdout",
     "output_type": "stream",
     "text": [
      "{'CPT': ['44970', '29881', '45378'], 'MEDICAL RECORD': {'Patient Name': 'James Freeman', 'DOB': '06/16/1982', 'MRN': '456789123', 'Sex': 'Male', 'other': 'not provided'}, 'PRESENTING COMPLAINT': {'Symptoms': 'Occasional rectal bleeding and abdominal discomfort', 'Duration': '6 months', 'other': 'not provided'}, 'PATIENT INFORMATION': {'Name': 'James Freeman', 'DOB': '06/16/1982', 'Gender': 'Male', 'Address': '4521 Maple Avenue, Dallas, Texas 75219', 'Contact Number': '(214) 555-0123', 'Emergency Contact': 'Not provided', 'other': 'not provided'}, 'MEDICAL HISTORY': {'Family History': ['Father had colorectal cancer at age 68'], 'Personal Medical History': ['Hypertension, managed with medication'], 'Medications': ['Lisinopril 10mg daily'], 'Allergies': ['No known drug allergies'], 'other': 'not provided'}, 'ALLERGIES': {'Allergies not reviewed': 'last reviewed 11/28/2022', 'NKDA': True, 'other': 'not provided'}, 'VITALS': {'Ht': '6ft2', 'Wt': '165lbs', 'BMI': 31.2, 'Pulse': '96bpm', 'other': 'not provided'}, 'PHYSICAL EXAMINATION': {'Findings': 'Mild tenderness in the lower abdomen, no palpable masses', 'other': 'not provided'}, 'DIAGNOSTIC TESTS AND RESULTS': {'Blood Tests': 'Hemoglobin slightly low at 12.4 g/dL, rest of the complete blood count within normal limits. Normal liver function tests', 'Imaging Studies': 'None conducted', 'other': 'not provided'}, 'HISTORY': {'Code': '44970, 29881', 'Description': 'Patient underwent an appendectomy due to acute appendicitis in 2015. Underwent left knee arthroscopy due to meniscal tear in 2018', 'other': 'not provided'}, 'NOTES': 'Px underwent treatment for abdominal discomfort 1 yr ago. Rectal bleeding. Tx failed to yield significant improvement. Rpt 6wk ago led to noticeable improvement in symptoms', 'CLINICAL IMPRESSION': 'Possible internal hemorrhoids or polyps; colorectal cancer to be ruled out', 'PLAN': {'Colonoscopy': 'Scheduled for 12/15/2023. The purpose is to investigate the cause of symptoms and to screen for colorectal cancer or polyps', 'Pre-Procedure Instructions': 'Clear liquid diet 24 hours before the procedure. Bowel preparation with polyethylene glycol solution starting the evening before the procedure. No solid foods, milk, or orange/red colored liquids. Regular medications can be taken with small sips of water', 'Post-Procedure Care': 'Patient to be observed for any signs of complications such as severe pain, fever, or excessive bleeding. Advised to rest for the remainder of the day. Normal diet can be resumed the following day unless otherwise advised', 'Consent': 'The patient has been informed about the benefits, risks, and alternatives to the procedure and has given informed consent', 'other': 'not provided'}, 'FOLLOW-UP': 'Appointment scheduled for 12/22/2023 to discuss the results of the colonoscopy and next steps in management', 'guidelines': {'Colorectal cancer screening, as indicated by 1 or more of the following': {'criteria': {'Patient has average-risk or higher, as indicated by ALL of the following': {'criteria': {'Age 45 years or older?': {'condition met': True, 'evidence': 'DOB: 06/16/1982'}, 'No colonoscopy in past 10 years?': {'condition met': True, 'evidence': 'Colonoscopy scheduled for 12/15/2023, no evidence of prior colonoscopy'}, 'other': 'not provided'}, 'other': 'not provided'}, 'High risk family history, as indicated by 1 or more of the following': {'criteria': {'Colorectal cancer diagnosed in one or more first-degree relatives of any age and ALL of the following': {'criteria': {'Age 40 years or older': {'condition met?': True, 'evidence': 'DOB: 06/16/1982'}, 'Symptomatic (eg, abdominal pain, iron deficiency anemia, rectal bleeding)': {'condition met?': True, 'evidence': 'Symptoms: Occasional rectal bleeding and abdominal discomfort for the past 6 months'}, 'other': 'not provided'}, 'other': 'not provided'}, 'Family member with colonic adenomatous polyposis of unknown etiology': {'condition met?': False, 'evidence': 'No evidence provided in the document'}, 'other': 'not provided'}, 'other': 'not provided'}, 'Juvenile polyposis syndrome diagnosis indicated by 1 or more of the following': {'criteria': {'Age 12 years or older and symptomatic (Abdominal pain, Iron deficiency anemia, Rectal bleeding, Telangiectasia)': {'condition met?': False, 'evidence': 'No evidence of Juvenile polyposis syndrome diagnosis provided'}, 'Age younger than 12 years and symptomatic (Abdominal pain, Iron deficiency anemia, Rectal bleeding, Telangiectasia)': {'condition met?': False, 'evidence': 'Patient is older than 12 years'}, 'other': 'not provided'}, 'other': 'not provided'}, 'other': 'not provided'}, 'other': 'not provided'}, 'other': 'not provided'}, 'decision': {'approve?': True, 'rationale': 'Patient meets criteria for average-risk colorectal cancer screening based on age and lack of recent colonoscopy, and also meets criteria for high-risk screening due to family history and current symptoms', 'additional information required?': 'None', 'other': 'not provided'}, 'other': 'not provided'}\n",
      "{'CPT': ['47562', '45378', '43235', '43239'], 'MEDICAL RECORD': {'Patient Name': 'Michail Antonio', 'DOB': '01/01/1975', 'MRN': 'not provided', 'Sex': 'Male', 'other': 'Date of record: 12/06/2023'}, 'PRESENTING COMPLAINT': {'Symptoms': 'Persistent upper abdominal pain and heartburn', 'Duration': 'since May 2023', 'other': 'occasional nausea'}, 'PATIENT INFORMATION': {'Name': 'Michail Antonio', 'DOB': '01/01/1975', 'Gender': 'Male', 'Address': '101 Hospital Drive, Dallas, Texas 91126', 'Contact Number': '(545) 555-1111', 'Emergency Contact': '(677) 234-8873', 'other': 'not provided'}, 'MEDICAL HISTORY': {'Family History': ['Father had gastric ulcer'], 'Personal Medical History': ['Hypertension diagnosed in 2015', 'Cholecystectomy on 08/15/2018', 'Colonoscopy on 07/22/2020 with abnormal findings'], 'Medications': ['Lisinopril 10mg daily since 2015', 'Antacids as needed since June 2023'], 'Allergies': ['No known drug allergies'], 'other': 'No prior surgeries, non-smoker, occasional alcohol use, no recreational drug use'}, 'ALLERGIES': {'Allergies not reviewed': 'not provided', 'NKDA': True, 'other': 'not provided'}, 'VITALS': {'Ht': 'not provided', 'Wt': 'not provided', 'BMI': 'not provided', 'Pulse': 'not provided', 'other': 'General: Alert and oriented, no acute distress'}, 'PHYSICAL EXAMINATION': {'Findings': 'Abdomen: Soft, non-tender, no palpable masses or hepatosplenomegaly', 'other': 'Other systems examination was unremarkable'}, 'DIAGNOSTIC TESTS AND RESULTS': {'Blood Tests': 'CBC, CMP within normal limits', 'Imaging Studies': 'not provided', 'other': 'H. pylori stool antigen test: Negative'}, 'HISTORY': {'Code': 'not provided', 'Description': 'not provided', 'other': '6-month history of upper abdominal pain, heartburn, and occasional nausea beginning around May 2023. Symptoms worsen post-meal, especially after consuming spicy foods. No history of gastrointestinal bleeding.'}, 'NOTES': 'not provided', 'CLINICAL IMPRESSION': 'Differential diagnosis includes gastroesophageal reflux disease (GERD), peptic ulcer, and other potential gastrointestinal conditions.', 'PLAN': {'Colonoscopy': 'Pending results from the 07/22/2020 colonoscopy, additional information required to finalize the diagnosis and formulate a comprehensive treatment plan.', 'Pre-Procedure Instructions': 'Continue current medication (antacids) and start proton pump inhibitor (PPI) once daily for symptom management as of 12/06/2023.', 'Post-Procedure Care': 'Advised dietary modifications: avoid spicy foods, and adopt smaller, more frequent meals to ease gastrointestinal discomfort.', 'Consent': 'not provided', 'other': 'Esophagogastroduodenoscopy (EGD) scheduled for 12/20/2023 to further evaluate the condition of the esophagus, stomach, and duodenum. Biopsies will be obtained as necessary.'}, 'FOLLOW-UP': 'A follow-up appointment scheduled for 01/03/2024 to discuss the results and next steps in management, including addressing the pending treatment from the colonoscopy.', 'guidelines': {'Colorectal cancer screening, as indicated by 1 or more of the following': {'criteria': {'Patient has average-risk or higher, as indicated by ALL of the following': {'criteria': {'Age 45 years or older?': {'condition met': True, 'evidence': \"Patient's DOB: 01/01/1975\"}, 'No colonoscopy in past 10 years?': {'condition met': False, 'evidence': 'Last colonoscopy was on 07/22/2020'}, 'other': 'not provided'}, 'other': 'not provided'}, 'High risk family history, as indicated by 1 or more of the following': {'criteria': {'Colorectal cancer diagnosed in one or more first-degree relatives of any age and ALL of the following': {'criteria': {'Age 40 years or older': {'condition met?': True, 'evidence': \"Patient's DOB: 01/01/1975\"}, 'Symptomatic (eg, abdominal pain, iron deficiency anemia, rectal bleeding)': {'condition met?': True, 'evidence': 'Patient reports upper abdominal pain and heartburn'}, 'other': 'not provided'}, 'other': 'not provided'}, 'Family member with colonic adenomatous polyposis of unknown etiology': {'condition met?': False, 'evidence': 'No family history of gastrointestinal cancers'}, 'other': 'not provided'}, 'other': 'not provided'}, 'Juvenile polyposis syndrome diagnosis indicated by 1 or more of the following': {'criteria': {'Age 12 years or older and symptomatic (Abdominal pain, Iron deficiency anemia, Rectal bleeding, Telangiectasia)': {'condition met?': False, 'evidence': 'Patient is 48 years old but no evidence of Juvenile polyposis syndrome diagnosis'}, 'Age younger than 12 years and symptomatic (Abdominal pain, Iron deficiency anemia, Rectal bleeding, Telangiectasia)': {'condition met?': False, 'evidence': 'Patient is 48 years old'}, 'other': 'not provided'}, 'other': 'not provided'}, 'other': 'not provided'}, 'other': 'not provided'}, 'other': 'not provided'}, 'decision': {'approve?': False, 'rationale': 'While the patient meets some criteria for high-risk colorectal cancer screening, the last colonoscopy was within the past 10 years, and there is no evidence of high-risk conditions such as colonic adenomatous polyposis or Juvenile polyposis syndrome. Additional information is required regarding the abnormal findings from the last colonoscopy to make an informed decision.', 'additional information required?': 'Further treatment details and results from the 07/22/2020 colonoscopy are required.', 'other': 'not provided'}, 'other': 'not provided'}\n",
      "{'CPT': ['47562', '45378'], 'MEDICAL RECORD': {'Patient Name': 'James Maddison', 'DOB': '03/15/1965', 'MRN': 'not provided', 'Sex': 'Male', 'other': 'not provided'}, 'PRESENTING COMPLAINT': {'Symptoms': 'Patient mentions occasional rectal bleeding and abdominal discomfort', 'Duration': 'The symptoms have been present for a few months.', 'other': 'not provided'}, 'PATIENT INFORMATION': {'Name': 'James Maddison', 'DOB': '03/15/1965', 'Gender': 'Male', 'Address': '1234 Sunset Blvd, Los Angeles, California 90026', 'Contact Number': '(214) 555-0123', 'Emergency Contact': '(214) 555-0456', 'other': 'not provided'}, 'MEDICAL HISTORY': {'Family History': ['Father had colorectal cancer at a significantly advanced age.'], 'Personal Medical History': ['Hypertension, reportedly managed with medication.'], 'Medications': ['Lisinopril 10 mg daily'], 'Allergies': ['No known drug allergies'], 'other': 'Possibly other medications not clearly listed.'}, 'ALLERGIES': {'Allergies not reviewed': 'not provided', 'NKDA': True, 'other': 'not provided'}, 'VITALS': {'Ht': 'not provided', 'Wt': 'not provided', 'BMI': 'not provided', 'Pulse': 'not provided', 'other': 'not provided'}, 'PHYSICAL EXAMINATION': {'Findings': 'Examination reveals some tenderness in the lower abdomen', 'other': 'The exact nature is not well described.'}, 'DIAGNOSTIC TESTS AND RESULTS': {'Blood Tests': 'Hemoglobin levels are somewhat low at 12.4 g/dL', 'Imaging Studies': 'No recent imaging studies have been conducted or documented.', 'other': 'Other results are within normal limits or not clearly specified.'}, 'HISTORY': {'Code': 'not provided', 'Description': 'not provided', 'other': 'Gallbladder Removal, Cholecystectomy (47562): Underwent a cholecystectomy several years ago. The postoperative course and its relation to current symptoms are unclear.'}, 'NOTES': 'Lower Back Pain Management: Received physical therapy for lower back pain and abdominal symptoms. Several weeks ago.', 'CLINICAL IMPRESSION': 'Internal hemorrhoids suggested by the patient.', 'PLAN': {'Colonoscopy': 'Scheduled for 12/15/2023. The purpose is somewhat broadly to investigate the symptoms and to screen for colorectal cancer or polyps.', 'Pre-Procedure Instructions': 'General instructions for preparation have been provided to the patient.', 'Post-Procedure Care': 'Patient to be observed for complications.', 'Consent': 'The patient has been informed about the procedure.', 'other': 'not provided'}, 'FOLLOW-UP': 'not provided', 'guidelines': {'Colorectal cancer screening, as indicated by 1 or more of the following': {'criteria': {'Patient has average-risk or higher, as indicated by ALL of the following': {'criteria': {'Age 45 years or older?': {'condition met': True, 'evidence': \"Patient's DOB: 03/15/1965\"}, 'No colonoscopy in past 10 years?': {'condition met': True, 'evidence': 'No recent imaging studies have been conducted or documented.'}, 'other': 'not provided'}, 'other': 'not provided'}, 'High risk family history, as indicated by 1 or more of the following': {'criteria': {'Colorectal cancer diagnosed in one or more first-degree relatives of any age and ALL of the following': {'criteria': {'Age 40 years or older': {'condition met?': True, 'evidence': \"Patient's DOB: 03/15/1965\"}, 'Symptomatic (eg, abdominal pain, iron deficiency anemia, rectal bleeding)': {'condition met?': True, 'evidence': 'Patient mentions occasional rectal bleeding and abdominal discomfort'}, 'other': 'not provided'}, 'other': 'not provided'}, 'Family member with colonic adenomatous polyposis of unknown etiology': {'condition met?': False, 'evidence': 'not provided'}, 'other': 'not provided'}, 'other': 'not provided'}, 'Juvenile polyposis syndrome diagnosis indicated by 1 or more of the following': {'criteria': {'Age 12 years or older and symptomatic (Abdominal pain, Iron deficiency anemia, Rectal bleeding, Telangiectasia)': {'condition met?': False, 'evidence': 'not provided'}, 'Age younger than 12 years and symptomatic (Abdominal pain, Iron deficiency anemia, Rectal bleeding, Telangiectasia)': {'condition met?': False, 'evidence': 'not provided'}, 'other': 'not provided'}, 'other': 'not provided'}, 'other': 'not provided'}, 'other': 'not provided'}, 'other': 'not provided'}, 'decision': {'approve?': True, 'rationale': 'Patient meets the criteria for average-risk colorectal cancer screening based on age and lack of recent colonoscopy, and also meets criteria for high-risk screening due to family history and symptoms.', 'additional information required?': 'None', 'other': 'not provided'}, 'other': 'not provided'}\n"
     ]
    }
   ],
   "source": [
    "for raw_text in pdf_extracts[\"raw_text\"]:\n",
    "    print(text_to_unified_json(raw_text, json_schema, \"text_to_json_schema_prompt.txt\"))"
   ]
  },
  {
   "cell_type": "code",
   "execution_count": 351,
   "metadata": {
    "execution": {
     "iopub.execute_input": "2024-01-18T17:26:04.180740Z",
     "iopub.status.busy": "2024-01-18T17:26:04.180145Z",
     "iopub.status.idle": "2024-01-18T17:26:30.878573Z",
     "shell.execute_reply": "2024-01-18T17:26:30.876898Z",
     "shell.execute_reply.started": "2024-01-18T17:26:04.180687Z"
    }
   },
   "outputs": [
    {
     "name": "stdout",
     "output_type": "stream",
     "text": [
      "{'CPT': ['45378'], 'MEDICAL RECORD': {'Patient Name': 'James Maddison', 'DOB': '03/15/1965', 'MRN': 'not provided', 'Sex': 'Male', 'other': 'Address: 1234 Sunset Blvd, Los Angeles, California 90026\\nContact Number: (214) 555-0123\\nEmergency Contact: (214) 555-0456'}, 'PRESENTING COMPLAINT': {'Symptoms': 'Patient mentions occasional rectal bleeding and abdominal discomfort, with somewhat frequent occurrence and some severity.', 'Duration': 'The symptoms have been present for a few months', 'other': 'not provided'}, 'PATIENT INFORMATION': {'Name': 'James Maddison', 'DOB': '03/15/1965', 'Gender': 'Male', 'Address': '1234 Sunset Blvd, Los Angeles, California 90026', 'Contact Number': '(214) 555-0123', 'Emergency Contact': '(214) 555-0456', 'other': 'not provided'}, 'MEDICAL HISTORY': {'Family History': ['Father had colorectal cancer at a significantly advanced age.'], 'Personal Medical History': ['Hypertension, reportedly managed with medication.'], 'Medications': ['Lisinopril 10 mg daily, and possibly other medications not clearly listed.'], 'Allergies': ['No known drug allergies, based on available records.'], 'other': 'not provided'}, 'ALLERGIES': {'Allergies not reviewed': 'not provided', 'NKDA': False, 'other': 'not provided'}, 'VITALS': {'Ht': 'not provided', 'Wt': 'not provided', 'BMI': 'not provided', 'Pulse': 'not provided', 'other': 'not provided'}, 'PHYSICAL EXAMINATION': {'Findings': 'Examination reveals some tenderness in the lower abdomen, but the exact nature is not well described.', 'other': 'not provided'}, 'DIAGNOSTIC TESTS AND RESULTS': {'Blood Tests': 'Hemoglobin levels are somewhat low at 12.4 g/dL, other results are within normal limits or not clearly specified.', 'Imaging Studies': 'No recent imaging studies have been conducted or documented.', 'other': 'not provided'}, 'HISTORY': {'Code': 'not provided', 'Description': 'not provided', 'other': 'not provided'}, 'NOTES': 'not provided', 'CLINICAL IMPRESSION': 'Internal hemorrhoids suggested by the patient.', 'PLAN': {'Colonoscopy': 'Scheduled for 12/15/2023. The purpose is somewhat broadly to investigate the symptoms and to screen for colorectal cancer or polyps.', 'Pre-Procedure Instructions': 'General instructions for preparation have been provided to the patient.', 'Post-Procedure Care': 'Patient to be observed for complications.', 'Consent': 'The patient has been informed about the procedure.', 'other': 'Requested procedure: 45378'}, 'FOLLOW-UP': 'not provided', 'guidelines': {'Colorectal cancer screening, as indicated by 1 or more of the following': {'criteria': {'Patient has average-risk or higher, as indicated by ALL of the following': {'criteria': {'Age 45 years or older?': {'condition met': True, 'evidence': \"Patient's date of birth is 03/15/1965, making him 58 years old.\"}, 'No colonoscopy in past 10 years?': {'condition met': True, 'evidence': 'Patient is scheduled for a colonoscopy on 12/15/2023, which is more than 10 years after the previous cholecystectomy procedure.'}, 'other': 'not provided'}}, 'High risk family history, as indicated by 1 or more of the following': {'criteria': {'Colorectal cancer diagnosed in one or more first-degree relatives of any age and ALL of the following': {'criteria': {'Age 40 years or older': {'condition met?': False, 'evidence': \"Patient's father had colorectal cancer at a significantly advanced age, but the exact age is not specified.\"}, 'Symptomatic (eg, abdominal pain, iron deficiency anemia, rectal bleeding)': {'condition met?': False, 'evidence': \"Patient's father's symptoms are not clearly described.\"}, 'other': 'not provided'}}, 'Family member with colonic adenomatous polyposis of unknown etiology': {'condition met?': False, 'evidence': 'No evidence found in the medical document.'}, 'other': 'not provided'}}, 'Juvenile polyposis syndrome diagnosis indicated by 1 or more of the following': {'criteria': {'Age 12 years or older and symptomatic (Abdominal pain, Iron deficiency anemia, Rectal bleeding, Telangiectasia)': {'condition met?': False, 'evidence': 'No evidence found in the medical document.'}, 'Age younger than 12 years and symptomatic (Abdominal pain, Iron deficiency anemia, Rectal bleeding, Telangiectasia)': {'condition met?': False, 'evidence': 'No evidence found in the medical document.'}, 'other': 'not provided'}}, 'other': 'not provided'}}, 'decision': {'approve?': True, 'rationale': 'The patient meets the criteria for average-risk colorectal cancer screening based on age and lack of recent colonoscopy. The high-risk family history criteria are not clearly met, and there is no evidence of juvenile polyposis syndrome diagnosis. Therefore, the colonoscopy procedure is approved.', 'additional information required?': 'None', 'other': 'not provided'}}, 'other': 'not provided'}\n"
     ]
    }
   ],
   "source": [
    "for raw_text in pdf_extracts[\"raw_text\"][2:]:\n",
    "    print(text_to_unified_json(raw_text, json_schema, \"text_to_json_schema_prompt.txt\", model=\"gpt-3.5-turbo-1106\"))"
   ]
  },
  {
   "cell_type": "code",
   "execution_count": 304,
   "metadata": {
    "execution": {
     "iopub.execute_input": "2024-01-17T21:15:52.964425Z",
     "iopub.status.busy": "2024-01-17T21:15:52.963781Z",
     "iopub.status.idle": "2024-01-17T21:28:26.145216Z",
     "shell.execute_reply": "2024-01-17T21:28:26.143822Z",
     "shell.execute_reply.started": "2024-01-17T21:15:52.964358Z"
    }
   },
   "outputs": [
    {
     "name": "stdout",
     "output_type": "stream",
     "text": [
      "{'CPT': ['44970', '29881', '45378'], 'MEDICAL RECORD': {'Patient Name': 'James Freeman', 'DOB': '06/16/1982', 'MRN': '456789123', 'Sex': 'Male'}, 'PRESENTING COMPLAINT': {'Symptoms': 'Occasional rectal bleeding and abdominal discomfort', 'Duration': '6 months'}, 'PATIENT INFORMATION': {'Name': 'James Freeman', 'DOB': '06/16/1982', 'Gender': 'Male', 'Address': '4521 Maple Avenue, Dallas, Texas 75219', 'Contact Number': '(214) 555-0123', 'Emergency Contact': 'not provided'}, 'MEDICAL HISTORY': {'Family History': ['Father had colorectal cancer at age 68'], 'Personal Medical History': ['Hypertension, managed with medication'], 'Medications': ['Lisinopril 10mg daily'], 'Allergies': ['No known drug allergies']}, 'ALLERGIES': {'Allergies not reviewed': 'last reviewed 11/28/2022', 'NKDA': True}, 'VITALS': {'Ht': '6ft2', 'Wt': '165lbs', 'BMI': 31.2, 'Pulse': '96bpm'}, 'PHYSICAL EXAMINATION': {'Findings': 'Mild tenderness in the lower abdomen, no palpable masses'}, 'DIAGNOSTIC TESTS AND RESULTS': {'Blood Tests': 'Hemoglobin slightly low at 12.4 g/dL, rest of the complete blood count within normal limits. Normal liver function tests', 'Imaging Studies': 'None conducted'}, 'HISTORY': {'Appendectomy': {'Code': '44970', 'Description': 'Patient underwent an appendectomy due to acute appendicitis in 2015. (Laparoscopy, surgical, appendectomy)'}, 'Knee Arthroscopy': {'Code': '29881', 'Description': 'Underwent left knee arthroscopy due to meniscal tear in 2018. (Arthroscopy, knee, surgical; with meniscectomy [medial OR lateral, including any meniscal shaving])'}}, 'NOTES': 'Px underwent treatment for abdominal discomfort 1 yr ago. Rectal bleeding. Tx failed to yield significant improvement. Rpt 6wk ago led to noticeable improvement in symptoms.', 'CLINICAL IMPRESSION': 'Possible internal hemorrhoids or polyps; colorectal cancer to be ruled out.', 'PLAN': {'Colonoscopy': 'Scheduled for 12/15/2023. The purpose is to investigate the cause of symptoms and to screen for colorectal cancer or polyps. This code represents a standard diagnostic colonoscopy.', 'Pre-Procedure Instructions': 'Clear liquid diet 24 hours before the procedure. Bowel preparation with polyethylene glycol solution starting the evening before the procedure. No solid foods, milk, or orange/red colored liquids. Regular medications can be taken with small sips of water.', 'Post-Procedure Care': 'Patient to be observed for any signs of complications such as severe pain, fever, or excessive bleeding. Advised to rest for the remainder of the day. Normal diet can be resumed the following day unless otherwise advised.', 'Consent': 'The patient has been informed about the benefits, risks, and alternatives to the procedure and has given informed consent.'}, 'FOLLOW-UP': 'Appointment scheduled for 12/22/2023 to discuss the results of the colonoscopy and next steps in management.', 'guidelines': {'Colorectal cancer screening': {'criteria': {'Patient has average-risk or higher': {'criteria': {'Age 45 years or older?': {'condition met': True, 'evidence': 'DOB: 06/16/1982'}, 'No colonoscopy in past 10 years?': {'condition met': True, 'evidence': 'No prior colonoscopy mentioned'}}}, 'High risk family history': {'criteria': {'Colorectal cancer diagnosed in one or more first-degree relatives of any age': {'criteria': {'Age 40 years or older': {'condition met?': True, 'evidence': 'DOB: 06/16/1982'}, 'Symptomatic (eg, abdominal pain, iron deficiency anemia, rectal bleeding)': {'condition met?': True, 'evidence': 'Symptoms: Occasional rectal bleeding and abdominal discomfort'}}}, 'Family member with colonic adenomatous polyposis of unknown etiology': {'condition met?': False, 'evidence': 'No evidence of family member with colonic adenomatous polyposis mentioned'}}}, 'Juvenile polyposis syndrome diagnosis': {'criteria': {'Age 12 years or older and symptomatic (Abdominal pain, Iron deficiency anemia, Rectal bleeding, Telangiectasia)': {'condition met?': False, 'evidence': 'No evidence of juvenile polyposis syndrome diagnosis mentioned'}, 'Age younger than 12 years and symptomatic (Abdominal pain, Iron deficiency anemia, Rectal bleeding, Telangiectasia)': {'condition met?': False, 'evidence': 'No evidence of juvenile polyposis syndrome diagnosis mentioned'}}}}}}, 'decision': {'approve?': True, 'rationale': 'Patient meets the criteria for colorectal cancer screening due to age and family history of colorectal cancer. Symptoms are consistent with potential colorectal issues that warrant further investigation.', 'additional information required?': 'None'}}\n",
      "\n",
      "\n",
      "\n",
      "{'CPT': ['47562', '45378', '43235', '43239'], 'MEDICAL RECORD': {'Patient Name': 'Michail Antonio', 'DOB': '01/01/1975', 'MRN': 'not provided', 'Sex': 'Male'}, 'PRESENTING COMPLAINT': {'Symptoms': 'Persistent upper abdominal pain and heartburn', 'Duration': 'since May 2023'}, 'PATIENT INFORMATION': {'Name': 'Michail Antonio', 'DOB': '01/01/1975', 'Gender': 'Male', 'Address': '101 Hospital Drive, Dallas, Texas 91126', 'Contact Number': '(545) 555-1111', 'Emergency Contact': '(677) 234-8873'}, 'MEDICAL HISTORY': {'Family History': ['Father had gastric ulcer'], 'Personal Medical History': ['Hypertension diagnosed in 2015', 'Cholecystectomy on 08/15/2018', 'Colonoscopy on 07/22/2020 with abnormal findings'], 'Medications': ['Lisinopril 10mg daily since 2015', 'Antacids as needed since June 2023'], 'Allergies': ['No known drug allergies']}, 'ALLERGIES': {'Allergies not reviewed': 'No known drug allergies', 'NKDA': True}, 'VITALS': {'Ht': 'not provided', 'Wt': 'not provided', 'BMI': 'not provided', 'Pulse': 'not provided'}, 'PHYSICAL EXAMINATION': {'Findings': 'Alert and oriented, no acute distress, abdomen soft and non-tender, no palpable masses or hepatosplenomegaly, other systems examination unremarkable'}, 'DIAGNOSTIC TESTS AND RESULTS': {'Blood Tests': 'CBC, CMP within normal limits', 'Imaging Studies': 'not provided'}, 'HISTORY': {'Hypertension': {'Code': 'not provided', 'Description': 'Hypertension diagnosed in 2015, controlled with medication'}, 'Cholecystectomy': {'Code': '47562', 'Description': 'Laparoscopic cholecystectomy performed on 08/15/2018'}, 'Colonoscopy': {'Code': '45378', 'Description': 'Colonoscopy performed on 07/22/2020 with abnormal findings'}}, 'NOTES': 'not provided', 'CLINICAL IMPRESSION': 'Differential diagnosis includes gastroesophageal reflux disease (GERD), peptic ulcer, and other potential gastrointestinal conditions.', 'PLAN': {'Esophagogastroduodenoscopy': {'Colonoscopy': 'EGD scheduled for 12/20/2023 to further evaluate the condition of the esophagus, stomach, and duodenum', 'Pre-Procedure Instructions': 'Continue current medication (antacids) and start PPI once daily for symptom management as of 12/06/2023', 'Post-Procedure Care': 'Close monitoring of symptoms, dietary modifications, and follow-up appointment scheduled for 01/03/2024', 'Consent': 'not provided'}}, 'FOLLOW-UP': 'Follow-up appointment scheduled for 01/03/2024 to discuss the results and next steps in management', 'guidelines': {'Colorectal cancer screening': {'criteria': {'Patient has average-risk or higher': {'criteria': {'Age 45 years or older?': {'condition met': True, 'evidence': 'Patient is 48 years old'}, 'No colonoscopy in past 10 years?': {'condition met': False, 'evidence': 'Patient had a colonoscopy on 07/22/2020'}}}, 'High risk family history': {'criteria': {'Colorectal cancer diagnosed in one or more first-degree relatives of any age': {'criteria': {'Age 40 years or older': {'condition met?': True, 'evidence': 'Patient is 48 years old'}, 'Symptomatic (eg, abdominal pain, iron deficiency anemia, rectal bleeding)': {'condition met?': False, 'evidence': 'No evidence of iron deficiency anemia or rectal bleeding provided'}}}, 'Family member with colonic adenomatous polyposis of unknown etiology': {'condition met?': False, 'evidence': 'No family history of colonic adenomatous polyposis mentioned'}}}, 'Juvenile polyposis syndrome diagnosis': {'criteria': {'Age 12 years or older and symptomatic (Abdominal pain, Iron deficiency anemia, Rectal bleeding, Telangiectasia)': {'condition met?': False, 'evidence': 'No evidence of iron deficiency anemia, rectal bleeding, or telangiectasia provided'}, 'Age younger than 12 years and symptomatic (Abdominal pain, Iron deficiency anemia, Rectal bleeding, Telangiectasia)': {'condition met?': False, 'evidence': 'Patient is 48 years old'}}}}}}, 'decision': {'approve?': True, 'rationale': 'Patient meets the criteria for colorectal cancer screening based on age and has a history of abnormal findings from a previous colonoscopy. The requested procedures are appropriate for further evaluation.', 'additional information required?': 'None'}}\n",
      "\n",
      "\n",
      "\n",
      "{'CPT': ['47562', '45378'], 'MEDICAL RECORD': {'Patient Name': 'James Maddison', 'DOB': '03/15/1965', 'MRN': 'not provided', 'Sex': 'Male'}, 'PRESENTING COMPLAINT': {'Symptoms': 'Patient mentions occasional rectal bleeding and abdominal discomfort', 'Duration': 'The symptoms have been present for a few months.'}, 'PATIENT INFORMATION': {'Name': 'James Maddison', 'DOB': '03/15/1965', 'Gender': 'Male', 'Address': '1234 Sunset Blvd, Los Angeles, California 90026', 'Contact Number': '(214) 555-0123', 'Emergency Contact': '(214) 555-0456'}, 'MEDICAL HISTORY': {'Family History': ['Father had colorectal cancer at a significantly advanced age.'], 'Personal Medical History': ['Hypertension, reportedly managed with medication.'], 'Medications': ['Lisinopril 10 mg daily', 'possibly other medications not clearly listed'], 'Allergies': ['No known drug allergies, based on available records.']}, 'ALLERGIES': {'Allergies not reviewed': 'not provided', 'NKDA': True}, 'VITALS': {'Ht': 'not provided', 'Wt': 'not provided', 'BMI': 'not provided', 'Pulse': 'not provided'}, 'PHYSICAL EXAMINATION': {'Findings': 'Examination reveals some tenderness in the lower abdomen, but the exact nature is not well described.'}, 'DIAGNOSTIC TESTS AND RESULTS': {'Blood Tests': 'Hemoglobin levels are somewhat low at 12.4 g/dL, other results are within normal limits or not clearly specified.', 'Imaging Studies': 'No recent imaging studies have been conducted or documented.'}, 'HISTORY': {'Cholecystectomy': {'Code': '47562', 'Description': 'Underwent a cholecystectomy several years ago. The postoperative course and its relation to current symptoms are unclear.'}, 'Physical Therapy': {'Code': 'not provided', 'Description': 'Received physical therapy for lower back pain and abdominal symptoms. Several weeks ago.'}}, 'NOTES': 'not provided', 'CLINICAL IMPRESSION': 'Internal hemorrhoids suggested by the patient.', 'PLAN': {'Colonoscopy': {'Colonoscopy': 'Scheduled for 12/15/2023. The purpose is somewhat broadly to investigate the symptoms and to screen for colorectal cancer or polyps.', 'Pre-Procedure Instructions': 'General instructions for preparation have been provided to the patient.', 'Post-Procedure Care': 'Patient to be observed for complications.', 'Consent': 'The patient has been informed about the procedure.'}}, 'FOLLOW-UP': 'not provided', 'guidelines': {'Colorectal cancer screening': {'criteria': {'Patient has average-risk or higher': {'criteria': {'Age 45 years or older?': {'condition met': True, 'evidence': \"Patient's DOB is 03/15/1965, which makes him older than 45.\"}, 'No colonoscopy in past 10 years?': {'condition met': True, 'evidence': 'No recent colonoscopy has been documented.'}}}, 'High risk family history': {'criteria': {'Colorectal cancer diagnosed in one or more first-degree relatives of any age': {'criteria': {'Age 40 years or older': {'condition met?': True, 'evidence': \"Patient's DOB is 03/15/1965, which makes him older than 40.\"}, 'Symptomatic (eg, abdominal pain, iron deficiency anemia, rectal bleeding)': {'condition met?': True, 'evidence': 'Patient reports occasional rectal bleeding and abdominal discomfort.'}}}, 'Family member with colonic adenomatous polyposis of unknown etiology': {'condition met?': False, 'evidence': 'No evidence of family member with colonic adenomatous polyposis provided.'}}}, 'Juvenile polyposis syndrome diagnosis': {'criteria': {'Age 12 years or older and symptomatic (Abdominal pain, Iron deficiency anemia, Rectal bleeding, Telangiectasia)': {'condition met?': False, 'evidence': 'No evidence of juvenile polyposis syndrome diagnosis provided.'}, 'Age younger than 12 years and symptomatic (Abdominal pain, Iron deficiency anemia, Rectal bleeding, Telangiectasia)': {'condition met?': False, 'evidence': 'Patient is older than 12 years.'}}}}}}, 'decision': {'approve?': True, 'rationale': 'Patient meets the criteria for colorectal cancer screening due to age and symptoms, and has a family history of colorectal cancer.', 'additional information required?': 'None'}}\n",
      "\n",
      "\n",
      "\n",
      "---------------------------------------------------\n",
      "{'CPT': ['44970', '29881', '45378'], 'MEDICAL RECORD': {'Patient Name': 'James Freeman', 'DOB': '06/16/1982', 'MRN': '456789123', 'Sex': 'Male'}, 'PRESENTING COMPLAINT': {'Symptoms': 'Occasional rectal bleeding and abdominal discomfort', 'Duration': '6 months'}, 'PATIENT INFORMATION': {'Name': 'James Freeman', 'DOB': '06/16/1982', 'Gender': 'Male', 'Address': '4521 Maple Avenue, Dallas, Texas 75219', 'Contact Number': '(214) 555-0123', 'Emergency Contact': 'not provided'}, 'MEDICAL HISTORY': {'Family History': ['Father had colorectal cancer at age 68'], 'Personal Medical History': ['Hypertension, managed with medication'], 'Medications': ['Lisinopril 10mg daily'], 'Allergies': ['No known drug allergies']}, 'ALLERGIES': {'Allergies not reviewed': 'last reviewed 11/28/2022', 'NKDA': True}, 'VITALS': {'Ht': '6ft2', 'Wt': '165lbs', 'BMI': 31.2, 'Pulse': '96bpm'}, 'PHYSICAL EXAMINATION': {'Findings': 'Mild tenderness in the lower abdomen, no palpable masses'}, 'DIAGNOSTIC TESTS AND RESULTS': {'Blood Tests': 'Hemoglobin slightly low at 12.4 g/dL, rest of the complete blood count within normal limits. Normal liver function tests', 'Imaging Studies': 'None conducted'}, 'HISTORY': {'44970': {'Code': '44970', 'Description': 'Patient underwent an appendectomy due to acute appendicitis in 2015. (Laparoscopy, surgical, appendectomy)'}, '29881': {'Code': '29881', 'Description': 'Underwent left knee arthroscopy due to meniscal tear in 2018. (Arthroscopy, knee, surgical; with meniscectomy [medial OR lateral, including any meniscal shaving])'}}, 'NOTES': 'Px underwent treatment for abdominal discomfort 1 yr ago. Rectal bleeding. Tx failed to yield significant improvement. Rpt 6wk ago led to noticeable improvement in symptoms.', 'CLINICAL IMPRESSION': 'Possible internal hemorrhoids or polyps; colorectal cancer to be ruled out.', 'PLAN': {'45378': {'Colonoscopy': 'Scheduled for 12/15/2023. The purpose is to investigate the cause of symptoms and to screen for colorectal cancer or polyps. This code represents a standard diagnostic colonoscopy.', 'Pre-Procedure Instructions': 'Clear liquid diet 24 hours before the procedure. Bowel preparation with polyethylene glycol solution starting the evening before the procedure. No solid foods, milk, or orange/red colored liquids. Regular medications can be taken with small sips of water.', 'Post-Procedure Care': 'Patient to be observed for any signs of complications such as severe pain, fever, or excessive bleeding. Advised to rest for the remainder of the day. Normal diet can be resumed the following day unless otherwise advised.', 'Consent': 'The patient has been informed about the benefits, risks, and alternatives to the procedure and has given informed consent.'}}, 'FOLLOW-UP': 'Appointment scheduled for 12/22/2023 to discuss the results of the colonoscopy and next steps in management.', 'guidelines': {'Colorectal cancer screening': {'criteria': {'Patient has average-risk or higher': {'criteria': {'Age 45 years or older?': {'condition met': True, 'evidence': 'DOB: 06/16/1982'}, 'No colonoscopy in past 10 years?': {'condition met': True, 'evidence': 'No prior colonoscopy mentioned'}}}, 'High risk family history': {'criteria': {'Colorectal cancer diagnosed in one or more first-degree relatives of any age': {'criteria': {'Age 40 years or older': {'condition met?': True, 'evidence': 'DOB: 06/16/1982'}, 'Symptomatic (eg, abdominal pain, iron deficiency anemia, rectal bleeding)': {'condition met?': True, 'evidence': 'Symptoms: Occasional rectal bleeding and abdominal discomfort'}}}, 'Family member with colonic adenomatous polyposis of unknown etiology': {'condition met?': False, 'evidence': 'No evidence of family member with colonic adenomatous polyposis'}}}, 'Juvenile polyposis syndrome diagnosis': {'criteria': {'Age 12 years or older and symptomatic (Abdominal pain, Iron deficiency anemia, Rectal bleeding, Telangiectasia)': {'condition met?': False, 'evidence': 'No evidence of juvenile polyposis syndrome diagnosis'}, 'Age younger than 12 years and symptomatic (Abdominal pain, Iron deficiency anemia, Rectal bleeding, Telangiectasia)': {'condition met?': False, 'evidence': 'No evidence of juvenile polyposis syndrome diagnosis'}}}}}}, 'decision': {'approve?': True, 'rationale': 'Patient meets the criteria for colorectal cancer screening due to age and family history of colorectal cancer. Symptoms are consistent with conditions that warrant a diagnostic colonoscopy.', 'additional information required?': 'None'}}\n",
      "\n",
      "\n",
      "\n",
      "{'CPT': ['47562', '45378', '43235', '43239'], 'MEDICAL RECORD': {'Patient Name': 'Michail Antonio', 'DOB': '01/01/1975', 'MRN': 'not provided', 'Sex': 'Male'}, 'PRESENTING COMPLAINT': {'Symptoms': 'Persistent upper abdominal pain and heartburn', 'Duration': 'since May 2023'}, 'PATIENT INFORMATION': {'Name': 'Michail Antonio', 'DOB': '01/01/1975', 'Gender': 'Male', 'Address': '101 Hospital Drive, Dallas, Texas 91126', 'Contact Number': '(545) 555-1111', 'Emergency Contact': '(677) 234-8873'}, 'MEDICAL HISTORY': {'Family History': ['Father had gastric ulcer'], 'Personal Medical History': ['Hypertension diagnosed in 2015', 'Cholecystectomy on 08/15/2018', 'Colonoscopy on 07/22/2020 with abnormal findings'], 'Medications': ['Lisinopril 10mg daily since 2015', 'Antacids as needed since June 2023'], 'Allergies': ['No known drug allergies']}, 'ALLERGIES': {'Allergies not reviewed': 'No known drug allergies', 'NKDA': True}, 'VITALS': {'Ht': 'not provided', 'Wt': 'not provided', 'BMI': 'not provided', 'Pulse': 'not provided'}, 'PHYSICAL EXAMINATION': {'Findings': 'General: Alert and oriented, no acute distress. Abdomen: Soft, non-tender, no palpable masses or hepatosplenomegaly. Other systems examination was unremarkable.'}, 'DIAGNOSTIC TESTS AND RESULTS': {'Blood Tests': 'CBC, CMP within normal limits', 'Imaging Studies': 'H. pylori stool antigen test: Negative'}, 'HISTORY': {'Hypertension': {'Code': 'not provided', 'Description': 'Hypertension diagnosed in 2015, controlled with medication.'}, 'Cholecystectomy': {'Code': '47562', 'Description': 'Cholecystectomy on 08/15/2018 - Laparoscopic cholecystectomy.'}, 'Colonoscopy': {'Code': '45378', 'Description': 'Colonoscopy on 07/22/2020 - Diagnostic. Abnormal findings identified, and further treatment pending as of 12/06/2023.'}}, 'NOTES': 'not provided', 'CLINICAL IMPRESSION': 'Differential diagnosis includes gastroesophageal reflux disease (GERD), peptic ulcer, and other potential gastrointestinal conditions.', 'PLAN': {'Esophagogastroduodenoscopy': {'Colonoscopy': 'Esophagogastroduodenoscopy (EGD) scheduled for 12/20/2023 to further evaluate the condition of the esophagus, stomach, and duodenum.', 'Pre-Procedure Instructions': 'Continue current medication (antacids) and start proton pump inhibitor (PPI) once daily for symptom management as of 12/06/2023.', 'Post-Procedure Care': 'Advised dietary modifications: avoid spicy foods, and adopt smaller, more frequent meals to ease gastrointestinal discomfort. Close monitoring of symptoms is recommended.', 'Consent': 'not provided'}}, 'FOLLOW-UP': 'A follow-up appointment scheduled for 01/03/2024 to discuss the results and next steps in management, including addressing the pending treatment from the colonoscopy.', 'guidelines': {'Colorectal cancer screening': {'criteria': {'Patient has average-risk or higher': {'criteria': {'Age 45 years or older?': {'condition met': True, 'evidence': \"Patient's DOB is 01/01/1975, which makes him 48 years old.\"}, 'No colonoscopy in past 10 years?': {'condition met': False, 'evidence': 'Patient had a colonoscopy on 07/22/2020.'}}}, 'High risk family history': {'criteria': {'Colorectal cancer diagnosed in one or more first-degree relatives of any age': {'criteria': {'Age 40 years or older': {'condition met?': True, 'evidence': \"Patient's DOB is 01/01/1975, which makes him 48 years old.\"}, 'Symptomatic (eg, abdominal pain, iron deficiency anemia, rectal bleeding)': {'condition met?': True, 'evidence': 'Patient reports a 6-month history of upper abdominal pain and heartburn.'}}}, 'Family member with colonic adenomatous polyposis of unknown etiology': {'condition met?': False, 'evidence': 'No family history of gastrointestinal cancers or colonic adenomatous polyposis mentioned.'}}}, 'Juvenile polyposis syndrome diagnosis': {'criteria': {'Age 12 years or older and symptomatic (Abdominal pain, Iron deficiency anemia, Rectal bleeding, Telangiectasia)': {'condition met?': False, 'evidence': 'No evidence of juvenile polyposis syndrome diagnosis or related symptoms provided.'}, 'Age younger than 12 years and symptomatic (Abdominal pain, Iron deficiency anemia, Rectal bleeding, Telangiectasia)': {'condition met?': False, 'evidence': 'Patient is 48 years old, not applicable.'}}}}}}, 'decision': {'approve?': True, 'rationale': 'The patient meets the criteria for colorectal cancer screening based on age and symptoms. Although a colonoscopy was performed within the past 10 years, the patient is symptomatic, and there are abnormal findings from the previous colonoscopy that require further investigation.', 'additional information required?': 'None'}}\n",
      "\n",
      "\n",
      "\n"
     ]
    },
    {
     "ename": "JSONDecodeError",
     "evalue": "Expecting ',' delimiter: line 1244 column 4 (char 10013)",
     "output_type": "error",
     "traceback": [
      "\u001b[0;31m---------------------------------------------------------------------------\u001b[0m",
      "\u001b[0;31mJSONDecodeError\u001b[0m                           Traceback (most recent call last)",
      "Cell \u001b[0;32mIn[304], line 3\u001b[0m\n\u001b[1;32m      1\u001b[0m \u001b[38;5;28;01mfor\u001b[39;00m i \u001b[38;5;129;01min\u001b[39;00m \u001b[38;5;28mrange\u001b[39m(\u001b[38;5;241m3\u001b[39m):    \n\u001b[1;32m      2\u001b[0m     \u001b[38;5;28;01mfor\u001b[39;00m raw_text \u001b[38;5;129;01min\u001b[39;00m pdf_extracts[\u001b[38;5;124m\"\u001b[39m\u001b[38;5;124mraw_text\u001b[39m\u001b[38;5;124m\"\u001b[39m]:\n\u001b[0;32m----> 3\u001b[0m         \u001b[38;5;28mprint\u001b[39m(\u001b[43mtext_to_unified_json\u001b[49m\u001b[43m(\u001b[49m\u001b[43mraw_text\u001b[49m\u001b[43m,\u001b[49m\u001b[43m \u001b[49m\u001b[43mjson_schema\u001b[49m\u001b[43m,\u001b[49m\u001b[43m \u001b[49m\u001b[38;5;124;43m\"\u001b[39;49m\u001b[38;5;124;43mtext_to_json_schema_prompt.txt\u001b[39;49m\u001b[38;5;124;43m\"\u001b[39;49m\u001b[43m)\u001b[49m)\n\u001b[1;32m      4\u001b[0m         \u001b[38;5;28mprint\u001b[39m(\u001b[38;5;124m\"\u001b[39m\u001b[38;5;130;01m\\n\u001b[39;00m\u001b[38;5;130;01m\\n\u001b[39;00m\u001b[38;5;124m\"\u001b[39m)\n\u001b[1;32m      5\u001b[0m     \u001b[38;5;28mprint\u001b[39m(\u001b[38;5;124m\"\u001b[39m\u001b[38;5;124m---------------------------------------------------\u001b[39m\u001b[38;5;124m\"\u001b[39m)\n",
      "Cell \u001b[0;32mIn[300], line 18\u001b[0m, in \u001b[0;36mtext_to_unified_json\u001b[0;34m(text, json_schema, prompt_path)\u001b[0m\n\u001b[1;32m     15\u001b[0m output \u001b[38;5;241m=\u001b[39m response\u001b[38;5;241m.\u001b[39mchoices[\u001b[38;5;241m0\u001b[39m]\u001b[38;5;241m.\u001b[39mmessage\u001b[38;5;241m.\u001b[39mcontent\n\u001b[1;32m     16\u001b[0m output \u001b[38;5;241m=\u001b[39m output\u001b[38;5;241m.\u001b[39msplit(\u001b[38;5;124m\"\u001b[39m\u001b[38;5;124m<json>\u001b[39m\u001b[38;5;130;01m\\n\u001b[39;00m\u001b[38;5;124m\"\u001b[39m)[\u001b[38;5;241m-\u001b[39m\u001b[38;5;241m1\u001b[39m]\u001b[38;5;241m.\u001b[39msplit(\u001b[38;5;124m\"\u001b[39m\u001b[38;5;130;01m\\n\u001b[39;00m\u001b[38;5;124m</json>\u001b[39m\u001b[38;5;124m\"\u001b[39m)[\u001b[38;5;241m0\u001b[39m]\n\u001b[0;32m---> 18\u001b[0m \u001b[38;5;28;01mreturn\u001b[39;00m \u001b[43mjson\u001b[49m\u001b[38;5;241;43m.\u001b[39;49m\u001b[43mloads\u001b[49m\u001b[43m(\u001b[49m\u001b[43moutput\u001b[49m\u001b[43m)\u001b[49m\n",
      "File \u001b[0;32m/d/harpy2/s/mambaforge/latest/envs/cohelm/lib/python3.9/json/__init__.py:346\u001b[0m, in \u001b[0;36mloads\u001b[0;34m(s, cls, object_hook, parse_float, parse_int, parse_constant, object_pairs_hook, **kw)\u001b[0m\n\u001b[1;32m    341\u001b[0m     s \u001b[38;5;241m=\u001b[39m s\u001b[38;5;241m.\u001b[39mdecode(detect_encoding(s), \u001b[38;5;124m'\u001b[39m\u001b[38;5;124msurrogatepass\u001b[39m\u001b[38;5;124m'\u001b[39m)\n\u001b[1;32m    343\u001b[0m \u001b[38;5;28;01mif\u001b[39;00m (\u001b[38;5;28mcls\u001b[39m \u001b[38;5;129;01mis\u001b[39;00m \u001b[38;5;28;01mNone\u001b[39;00m \u001b[38;5;129;01mand\u001b[39;00m object_hook \u001b[38;5;129;01mis\u001b[39;00m \u001b[38;5;28;01mNone\u001b[39;00m \u001b[38;5;129;01mand\u001b[39;00m\n\u001b[1;32m    344\u001b[0m         parse_int \u001b[38;5;129;01mis\u001b[39;00m \u001b[38;5;28;01mNone\u001b[39;00m \u001b[38;5;129;01mand\u001b[39;00m parse_float \u001b[38;5;129;01mis\u001b[39;00m \u001b[38;5;28;01mNone\u001b[39;00m \u001b[38;5;129;01mand\u001b[39;00m\n\u001b[1;32m    345\u001b[0m         parse_constant \u001b[38;5;129;01mis\u001b[39;00m \u001b[38;5;28;01mNone\u001b[39;00m \u001b[38;5;129;01mand\u001b[39;00m object_pairs_hook \u001b[38;5;129;01mis\u001b[39;00m \u001b[38;5;28;01mNone\u001b[39;00m \u001b[38;5;129;01mand\u001b[39;00m \u001b[38;5;129;01mnot\u001b[39;00m kw):\n\u001b[0;32m--> 346\u001b[0m     \u001b[38;5;28;01mreturn\u001b[39;00m \u001b[43m_default_decoder\u001b[49m\u001b[38;5;241;43m.\u001b[39;49m\u001b[43mdecode\u001b[49m\u001b[43m(\u001b[49m\u001b[43ms\u001b[49m\u001b[43m)\u001b[49m\n\u001b[1;32m    347\u001b[0m \u001b[38;5;28;01mif\u001b[39;00m \u001b[38;5;28mcls\u001b[39m \u001b[38;5;129;01mis\u001b[39;00m \u001b[38;5;28;01mNone\u001b[39;00m:\n\u001b[1;32m    348\u001b[0m     \u001b[38;5;28mcls\u001b[39m \u001b[38;5;241m=\u001b[39m JSONDecoder\n",
      "File \u001b[0;32m/d/harpy2/s/mambaforge/latest/envs/cohelm/lib/python3.9/json/decoder.py:337\u001b[0m, in \u001b[0;36mJSONDecoder.decode\u001b[0;34m(self, s, _w)\u001b[0m\n\u001b[1;32m    332\u001b[0m \u001b[38;5;28;01mdef\u001b[39;00m \u001b[38;5;21mdecode\u001b[39m(\u001b[38;5;28mself\u001b[39m, s, _w\u001b[38;5;241m=\u001b[39mWHITESPACE\u001b[38;5;241m.\u001b[39mmatch):\n\u001b[1;32m    333\u001b[0m \u001b[38;5;250m    \u001b[39m\u001b[38;5;124;03m\"\"\"Return the Python representation of ``s`` (a ``str`` instance\u001b[39;00m\n\u001b[1;32m    334\u001b[0m \u001b[38;5;124;03m    containing a JSON document).\u001b[39;00m\n\u001b[1;32m    335\u001b[0m \n\u001b[1;32m    336\u001b[0m \u001b[38;5;124;03m    \"\"\"\u001b[39;00m\n\u001b[0;32m--> 337\u001b[0m     obj, end \u001b[38;5;241m=\u001b[39m \u001b[38;5;28;43mself\u001b[39;49m\u001b[38;5;241;43m.\u001b[39;49m\u001b[43mraw_decode\u001b[49m\u001b[43m(\u001b[49m\u001b[43ms\u001b[49m\u001b[43m,\u001b[49m\u001b[43m \u001b[49m\u001b[43midx\u001b[49m\u001b[38;5;241;43m=\u001b[39;49m\u001b[43m_w\u001b[49m\u001b[43m(\u001b[49m\u001b[43ms\u001b[49m\u001b[43m,\u001b[49m\u001b[43m \u001b[49m\u001b[38;5;241;43m0\u001b[39;49m\u001b[43m)\u001b[49m\u001b[38;5;241;43m.\u001b[39;49m\u001b[43mend\u001b[49m\u001b[43m(\u001b[49m\u001b[43m)\u001b[49m\u001b[43m)\u001b[49m\n\u001b[1;32m    338\u001b[0m     end \u001b[38;5;241m=\u001b[39m _w(s, end)\u001b[38;5;241m.\u001b[39mend()\n\u001b[1;32m    339\u001b[0m     \u001b[38;5;28;01mif\u001b[39;00m end \u001b[38;5;241m!=\u001b[39m \u001b[38;5;28mlen\u001b[39m(s):\n",
      "File \u001b[0;32m/d/harpy2/s/mambaforge/latest/envs/cohelm/lib/python3.9/json/decoder.py:353\u001b[0m, in \u001b[0;36mJSONDecoder.raw_decode\u001b[0;34m(self, s, idx)\u001b[0m\n\u001b[1;32m    344\u001b[0m \u001b[38;5;250m\u001b[39m\u001b[38;5;124;03m\"\"\"Decode a JSON document from ``s`` (a ``str`` beginning with\u001b[39;00m\n\u001b[1;32m    345\u001b[0m \u001b[38;5;124;03ma JSON document) and return a 2-tuple of the Python\u001b[39;00m\n\u001b[1;32m    346\u001b[0m \u001b[38;5;124;03mrepresentation and the index in ``s`` where the document ended.\u001b[39;00m\n\u001b[0;32m   (...)\u001b[0m\n\u001b[1;32m    350\u001b[0m \n\u001b[1;32m    351\u001b[0m \u001b[38;5;124;03m\"\"\"\u001b[39;00m\n\u001b[1;32m    352\u001b[0m \u001b[38;5;28;01mtry\u001b[39;00m:\n\u001b[0;32m--> 353\u001b[0m     obj, end \u001b[38;5;241m=\u001b[39m \u001b[38;5;28;43mself\u001b[39;49m\u001b[38;5;241;43m.\u001b[39;49m\u001b[43mscan_once\u001b[49m\u001b[43m(\u001b[49m\u001b[43ms\u001b[49m\u001b[43m,\u001b[49m\u001b[43m \u001b[49m\u001b[43midx\u001b[49m\u001b[43m)\u001b[49m\n\u001b[1;32m    354\u001b[0m \u001b[38;5;28;01mexcept\u001b[39;00m \u001b[38;5;167;01mStopIteration\u001b[39;00m \u001b[38;5;28;01mas\u001b[39;00m err:\n\u001b[1;32m    355\u001b[0m     \u001b[38;5;28;01mraise\u001b[39;00m JSONDecodeError(\u001b[38;5;124m\"\u001b[39m\u001b[38;5;124mExpecting value\u001b[39m\u001b[38;5;124m\"\u001b[39m, s, err\u001b[38;5;241m.\u001b[39mvalue) \u001b[38;5;28;01mfrom\u001b[39;00m \u001b[38;5;28;01mNone\u001b[39;00m\n",
      "\u001b[0;31mJSONDecodeError\u001b[0m: Expecting ',' delimiter: line 1244 column 4 (char 10013)"
     ]
    }
   ],
   "source": [
    "for i in range(3):    \n",
    "    for raw_text in pdf_extracts[\"raw_text\"]:\n",
    "        print(text_to_unified_json(raw_text, json_schema, \"text_to_json_schema_prompt.txt\"))\n",
    "        print(\"\\n\\n\")\n",
    "    print(\"---------------------------------------------------\")"
   ]
  },
  {
   "cell_type": "code",
   "execution_count": null,
   "metadata": {},
   "outputs": [],
   "source": [
    " but if it is a mere rewording of existing fields in the schema you should incorporate it under the existing relevant key(s) of the schema"
   ]
  }
 ],
 "metadata": {
  "kernelspec": {
   "display_name": "Python [conda env:cohelm]",
   "language": "python",
   "name": "conda-env-cohelm-py"
  },
  "language_info": {
   "codemirror_mode": {
    "name": "ipython",
    "version": 3
   },
   "file_extension": ".py",
   "mimetype": "text/x-python",
   "name": "python",
   "nbconvert_exporter": "python",
   "pygments_lexer": "ipython3",
   "version": "3.9.16"
  },
  "widgets": {
   "application/vnd.jupyter.widget-state+json": {
    "state": {},
    "version_major": 2,
    "version_minor": 0
   }
  }
 },
 "nbformat": 4,
 "nbformat_minor": 4
}
